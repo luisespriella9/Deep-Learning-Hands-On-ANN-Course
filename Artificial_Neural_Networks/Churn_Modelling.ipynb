{
  "nbformat": 4,
  "nbformat_minor": 0,
  "metadata": {
    "kernelspec": {
      "display_name": "Python 3",
      "language": "python",
      "name": "python3"
    },
    "language_info": {
      "codemirror_mode": {
        "name": "ipython",
        "version": 3
      },
      "file_extension": ".py",
      "mimetype": "text/x-python",
      "name": "python",
      "nbconvert_exporter": "python",
      "pygments_lexer": "ipython3",
      "version": "3.6.10"
    },
    "colab": {
      "name": "Churn Modelling.ipynb",
      "provenance": [],
      "collapsed_sections": [],
      "include_colab_link": true
    }
  },
  "cells": [
    {
      "cell_type": "markdown",
      "metadata": {
        "id": "view-in-github",
        "colab_type": "text"
      },
      "source": [
        "<a href=\"https://colab.research.google.com/github/luisespriella9/Deep-Learning-Hands-On-ANN-Course/blob/master/Artificial_Neural_Networks/Churn_Modelling.ipynb\" target=\"_parent\"><img src=\"https://colab.research.google.com/assets/colab-badge.svg\" alt=\"Open In Colab\"/></a>"
      ]
    },
    {
      "cell_type": "markdown",
      "metadata": {
        "id": "qsYHRrsWCAye",
        "colab_type": "text"
      },
      "source": [
        "## Import Libraries"
      ]
    },
    {
      "cell_type": "code",
      "metadata": {
        "id": "NL53XnDvCAyk",
        "colab_type": "code",
        "colab": {}
      },
      "source": [
        "import numpy as np\n",
        "import pandas as pd\n",
        "import matplotlib.pyplot as plt\n",
        "import tensorflow as tf"
      ],
      "execution_count": 1,
      "outputs": []
    },
    {
      "cell_type": "code",
      "metadata": {
        "id": "B3hFM-PVDa-J",
        "colab_type": "code",
        "colab": {
          "base_uri": "https://localhost:8080/",
          "height": 35
        },
        "outputId": "32b83949-53a4-4508-da67-e6c5a3c92d84"
      },
      "source": [
        "tf.__version__"
      ],
      "execution_count": 2,
      "outputs": [
        {
          "output_type": "execute_result",
          "data": {
            "application/vnd.google.colaboratory.intrinsic+json": {
              "type": "string"
            },
            "text/plain": [
              "'2.3.0'"
            ]
          },
          "metadata": {
            "tags": []
          },
          "execution_count": 2
        }
      ]
    },
    {
      "cell_type": "markdown",
      "metadata": {
        "id": "nvusMnEgCAyx",
        "colab_type": "text"
      },
      "source": [
        "# Data Precprocessing"
      ]
    },
    {
      "cell_type": "code",
      "metadata": {
        "id": "P6vj2xKUD2Ka",
        "colab_type": "code",
        "colab": {
          "base_uri": "https://localhost:8080/",
          "height": 198
        },
        "outputId": "d012bd63-c211-4169-b98b-dc5c923921c5"
      },
      "source": [
        "dataset = pd.read_csv('Churn_Modelling.csv')\n",
        "dataset.dropna()\n",
        "dataset.head()"
      ],
      "execution_count": 3,
      "outputs": [
        {
          "output_type": "execute_result",
          "data": {
            "text/html": [
              "<div>\n",
              "<style scoped>\n",
              "    .dataframe tbody tr th:only-of-type {\n",
              "        vertical-align: middle;\n",
              "    }\n",
              "\n",
              "    .dataframe tbody tr th {\n",
              "        vertical-align: top;\n",
              "    }\n",
              "\n",
              "    .dataframe thead th {\n",
              "        text-align: right;\n",
              "    }\n",
              "</style>\n",
              "<table border=\"1\" class=\"dataframe\">\n",
              "  <thead>\n",
              "    <tr style=\"text-align: right;\">\n",
              "      <th></th>\n",
              "      <th>RowNumber</th>\n",
              "      <th>CustomerId</th>\n",
              "      <th>Surname</th>\n",
              "      <th>CreditScore</th>\n",
              "      <th>Geography</th>\n",
              "      <th>Gender</th>\n",
              "      <th>Age</th>\n",
              "      <th>Tenure</th>\n",
              "      <th>Balance</th>\n",
              "      <th>NumOfProducts</th>\n",
              "      <th>HasCrCard</th>\n",
              "      <th>IsActiveMember</th>\n",
              "      <th>EstimatedSalary</th>\n",
              "      <th>Exited</th>\n",
              "    </tr>\n",
              "  </thead>\n",
              "  <tbody>\n",
              "    <tr>\n",
              "      <th>0</th>\n",
              "      <td>1</td>\n",
              "      <td>15634602</td>\n",
              "      <td>Hargrave</td>\n",
              "      <td>619</td>\n",
              "      <td>France</td>\n",
              "      <td>Female</td>\n",
              "      <td>42</td>\n",
              "      <td>2</td>\n",
              "      <td>0.00</td>\n",
              "      <td>1</td>\n",
              "      <td>1</td>\n",
              "      <td>1</td>\n",
              "      <td>101348.88</td>\n",
              "      <td>1</td>\n",
              "    </tr>\n",
              "    <tr>\n",
              "      <th>1</th>\n",
              "      <td>2</td>\n",
              "      <td>15647311</td>\n",
              "      <td>Hill</td>\n",
              "      <td>608</td>\n",
              "      <td>Spain</td>\n",
              "      <td>Female</td>\n",
              "      <td>41</td>\n",
              "      <td>1</td>\n",
              "      <td>83807.86</td>\n",
              "      <td>1</td>\n",
              "      <td>0</td>\n",
              "      <td>1</td>\n",
              "      <td>112542.58</td>\n",
              "      <td>0</td>\n",
              "    </tr>\n",
              "    <tr>\n",
              "      <th>2</th>\n",
              "      <td>3</td>\n",
              "      <td>15619304</td>\n",
              "      <td>Onio</td>\n",
              "      <td>502</td>\n",
              "      <td>France</td>\n",
              "      <td>Female</td>\n",
              "      <td>42</td>\n",
              "      <td>8</td>\n",
              "      <td>159660.80</td>\n",
              "      <td>3</td>\n",
              "      <td>1</td>\n",
              "      <td>0</td>\n",
              "      <td>113931.57</td>\n",
              "      <td>1</td>\n",
              "    </tr>\n",
              "    <tr>\n",
              "      <th>3</th>\n",
              "      <td>4</td>\n",
              "      <td>15701354</td>\n",
              "      <td>Boni</td>\n",
              "      <td>699</td>\n",
              "      <td>France</td>\n",
              "      <td>Female</td>\n",
              "      <td>39</td>\n",
              "      <td>1</td>\n",
              "      <td>0.00</td>\n",
              "      <td>2</td>\n",
              "      <td>0</td>\n",
              "      <td>0</td>\n",
              "      <td>93826.63</td>\n",
              "      <td>0</td>\n",
              "    </tr>\n",
              "    <tr>\n",
              "      <th>4</th>\n",
              "      <td>5</td>\n",
              "      <td>15737888</td>\n",
              "      <td>Mitchell</td>\n",
              "      <td>850</td>\n",
              "      <td>Spain</td>\n",
              "      <td>Female</td>\n",
              "      <td>43</td>\n",
              "      <td>2</td>\n",
              "      <td>125510.82</td>\n",
              "      <td>1</td>\n",
              "      <td>1</td>\n",
              "      <td>1</td>\n",
              "      <td>79084.10</td>\n",
              "      <td>0</td>\n",
              "    </tr>\n",
              "  </tbody>\n",
              "</table>\n",
              "</div>"
            ],
            "text/plain": [
              "   RowNumber  CustomerId   Surname  ...  IsActiveMember EstimatedSalary Exited\n",
              "0          1    15634602  Hargrave  ...               1       101348.88      1\n",
              "1          2    15647311      Hill  ...               1       112542.58      0\n",
              "2          3    15619304      Onio  ...               0       113931.57      1\n",
              "3          4    15701354      Boni  ...               0        93826.63      0\n",
              "4          5    15737888  Mitchell  ...               1        79084.10      0\n",
              "\n",
              "[5 rows x 14 columns]"
            ]
          },
          "metadata": {
            "tags": []
          },
          "execution_count": 3
        }
      ]
    },
    {
      "cell_type": "code",
      "metadata": {
        "id": "FuCNDkGsCAyz",
        "colab_type": "code",
        "colab": {}
      },
      "source": [
        "X = dataset.drop([\"RowNumber\", \"CustomerId\", \"Surname\", \"Exited\"], axis=1)\n",
        "y = dataset[[\"Exited\"]]"
      ],
      "execution_count": 4,
      "outputs": []
    },
    {
      "cell_type": "markdown",
      "metadata": {
        "id": "dUpJRKpBCAy8",
        "colab_type": "text"
      },
      "source": [
        "## Encoding Categorical Data"
      ]
    },
    {
      "cell_type": "markdown",
      "metadata": {
        "id": "Drhp7fLhEizC",
        "colab_type": "text"
      },
      "source": [
        "Label Encoding Gender"
      ]
    },
    {
      "cell_type": "code",
      "metadata": {
        "id": "walJvDqnCAy9",
        "colab_type": "code",
        "colab": {}
      },
      "source": [
        "from sklearn.preprocessing import LabelEncoder\n",
        "label_encoder = LabelEncoder()\n",
        "X[\"Gender\"] = label_encoder.fit_transform(X[\"Gender\"].values)"
      ],
      "execution_count": 5,
      "outputs": []
    },
    {
      "cell_type": "markdown",
      "metadata": {
        "id": "IpqAhOJeEmgP",
        "colab_type": "text"
      },
      "source": [
        "One hot encoding Geography"
      ]
    },
    {
      "cell_type": "code",
      "metadata": {
        "id": "w1Wk_3DxErpj",
        "colab_type": "code",
        "colab": {}
      },
      "source": [
        "from sklearn.preprocessing import OneHotEncoder\n",
        "hot_encoder = OneHotEncoder()\n",
        "columns_transformed = hot_encoder.fit_transform(X[[\"Geography\"]]).toarray()\n",
        "ct_dataset = pd.DataFrame(columns_transformed, columns=hot_encoder.categories_)\n",
        "X.drop([\"Geography\"], axis=1, inplace=True)\n",
        "X = pd.concat([X, ct_dataset], axis=1)"
      ],
      "execution_count": 6,
      "outputs": []
    },
    {
      "cell_type": "code",
      "metadata": {
        "id": "B7SJHe3vFSPA",
        "colab_type": "code",
        "colab": {
          "base_uri": "https://localhost:8080/",
          "height": 198
        },
        "outputId": "bf86d7f2-da4c-403b-9da2-d5d4a9bf62f9"
      },
      "source": [
        "X.head()"
      ],
      "execution_count": 7,
      "outputs": [
        {
          "output_type": "execute_result",
          "data": {
            "text/html": [
              "<div>\n",
              "<style scoped>\n",
              "    .dataframe tbody tr th:only-of-type {\n",
              "        vertical-align: middle;\n",
              "    }\n",
              "\n",
              "    .dataframe tbody tr th {\n",
              "        vertical-align: top;\n",
              "    }\n",
              "\n",
              "    .dataframe thead th {\n",
              "        text-align: right;\n",
              "    }\n",
              "</style>\n",
              "<table border=\"1\" class=\"dataframe\">\n",
              "  <thead>\n",
              "    <tr style=\"text-align: right;\">\n",
              "      <th></th>\n",
              "      <th>CreditScore</th>\n",
              "      <th>Gender</th>\n",
              "      <th>Age</th>\n",
              "      <th>Tenure</th>\n",
              "      <th>Balance</th>\n",
              "      <th>NumOfProducts</th>\n",
              "      <th>HasCrCard</th>\n",
              "      <th>IsActiveMember</th>\n",
              "      <th>EstimatedSalary</th>\n",
              "      <th>(France,)</th>\n",
              "      <th>(Germany,)</th>\n",
              "      <th>(Spain,)</th>\n",
              "    </tr>\n",
              "  </thead>\n",
              "  <tbody>\n",
              "    <tr>\n",
              "      <th>0</th>\n",
              "      <td>619</td>\n",
              "      <td>0</td>\n",
              "      <td>42</td>\n",
              "      <td>2</td>\n",
              "      <td>0.00</td>\n",
              "      <td>1</td>\n",
              "      <td>1</td>\n",
              "      <td>1</td>\n",
              "      <td>101348.88</td>\n",
              "      <td>1.0</td>\n",
              "      <td>0.0</td>\n",
              "      <td>0.0</td>\n",
              "    </tr>\n",
              "    <tr>\n",
              "      <th>1</th>\n",
              "      <td>608</td>\n",
              "      <td>0</td>\n",
              "      <td>41</td>\n",
              "      <td>1</td>\n",
              "      <td>83807.86</td>\n",
              "      <td>1</td>\n",
              "      <td>0</td>\n",
              "      <td>1</td>\n",
              "      <td>112542.58</td>\n",
              "      <td>0.0</td>\n",
              "      <td>0.0</td>\n",
              "      <td>1.0</td>\n",
              "    </tr>\n",
              "    <tr>\n",
              "      <th>2</th>\n",
              "      <td>502</td>\n",
              "      <td>0</td>\n",
              "      <td>42</td>\n",
              "      <td>8</td>\n",
              "      <td>159660.80</td>\n",
              "      <td>3</td>\n",
              "      <td>1</td>\n",
              "      <td>0</td>\n",
              "      <td>113931.57</td>\n",
              "      <td>1.0</td>\n",
              "      <td>0.0</td>\n",
              "      <td>0.0</td>\n",
              "    </tr>\n",
              "    <tr>\n",
              "      <th>3</th>\n",
              "      <td>699</td>\n",
              "      <td>0</td>\n",
              "      <td>39</td>\n",
              "      <td>1</td>\n",
              "      <td>0.00</td>\n",
              "      <td>2</td>\n",
              "      <td>0</td>\n",
              "      <td>0</td>\n",
              "      <td>93826.63</td>\n",
              "      <td>1.0</td>\n",
              "      <td>0.0</td>\n",
              "      <td>0.0</td>\n",
              "    </tr>\n",
              "    <tr>\n",
              "      <th>4</th>\n",
              "      <td>850</td>\n",
              "      <td>0</td>\n",
              "      <td>43</td>\n",
              "      <td>2</td>\n",
              "      <td>125510.82</td>\n",
              "      <td>1</td>\n",
              "      <td>1</td>\n",
              "      <td>1</td>\n",
              "      <td>79084.10</td>\n",
              "      <td>0.0</td>\n",
              "      <td>0.0</td>\n",
              "      <td>1.0</td>\n",
              "    </tr>\n",
              "  </tbody>\n",
              "</table>\n",
              "</div>"
            ],
            "text/plain": [
              "   CreditScore  Gender  Age  ...  (France,)  (Germany,)  (Spain,)\n",
              "0          619       0   42  ...        1.0         0.0       0.0\n",
              "1          608       0   41  ...        0.0         0.0       1.0\n",
              "2          502       0   42  ...        1.0         0.0       0.0\n",
              "3          699       0   39  ...        1.0         0.0       0.0\n",
              "4          850       0   43  ...        0.0         0.0       1.0\n",
              "\n",
              "[5 rows x 12 columns]"
            ]
          },
          "metadata": {
            "tags": []
          },
          "execution_count": 7
        }
      ]
    },
    {
      "cell_type": "markdown",
      "metadata": {
        "id": "cqZuraw9CAzD",
        "colab_type": "text"
      },
      "source": [
        "## Split dataset into Training set and Test set"
      ]
    },
    {
      "cell_type": "code",
      "metadata": {
        "id": "sFiz4ryuCAzE",
        "colab_type": "code",
        "colab": {}
      },
      "source": [
        "from sklearn.model_selection import  train_test_split\n",
        "X_train, X_test, y_train, y_test = train_test_split(X.values, y.values, test_size=0.10, random_state=1)\n",
        "X_train, X_val, y_train, y_val = train_test_split(X_train, y_train, test_size=0.15, random_state=0)"
      ],
      "execution_count": 8,
      "outputs": []
    },
    {
      "cell_type": "markdown",
      "metadata": {
        "id": "UQ23hO-5CAzI",
        "colab_type": "text"
      },
      "source": [
        "## Feature Scaling"
      ]
    },
    {
      "cell_type": "code",
      "metadata": {
        "id": "Z680B9jBCAzJ",
        "colab_type": "code",
        "colab": {}
      },
      "source": [
        "from sklearn.preprocessing import StandardScaler\n",
        "sc = StandardScaler()\n",
        "X_train = sc.fit_transform(X_train)\n",
        "X_test = sc.transform(X_test)"
      ],
      "execution_count": 9,
      "outputs": []
    },
    {
      "cell_type": "markdown",
      "metadata": {
        "id": "PO8_GTBlCAzN",
        "colab_type": "text"
      },
      "source": [
        "# Build Artificial Neural Network"
      ]
    },
    {
      "cell_type": "code",
      "metadata": {
        "id": "zlRgddTFCAzO",
        "colab_type": "code",
        "colab": {}
      },
      "source": [
        "ann = tf.keras.models.Sequential()\n",
        "# input layer\n",
        "ann.add(tf.keras.layers.Dense(units=X_train.shape[1], activation='relu'))\n",
        "# second layer\n",
        "ann.add(tf.keras.layers.Dense(units=8, activation='relu'))\n",
        "# output layer\n",
        "ann.add(tf.keras.layers.Dense(units=1, activation='sigmoid'))"
      ],
      "execution_count": 10,
      "outputs": []
    },
    {
      "cell_type": "markdown",
      "metadata": {
        "id": "oBHFFNajXgXD",
        "colab_type": "text"
      },
      "source": [
        "Compile"
      ]
    },
    {
      "cell_type": "code",
      "metadata": {
        "id": "Oc1yv1OFXhhl",
        "colab_type": "code",
        "colab": {}
      },
      "source": [
        "ann.compile(optimizer='adam', loss='binary_crossentropy', metrics=['accuracy'])"
      ],
      "execution_count": 11,
      "outputs": []
    },
    {
      "cell_type": "markdown",
      "metadata": {
        "id": "byBuH7PXCAzR",
        "colab_type": "text"
      },
      "source": [
        "# Train ANN"
      ]
    },
    {
      "cell_type": "code",
      "metadata": {
        "id": "H3M3wpS7X4a5",
        "colab_type": "code",
        "colab": {
          "base_uri": "https://localhost:8080/",
          "height": 563
        },
        "outputId": "e6083421-8daa-4877-c1f9-92c1a978590d"
      },
      "source": [
        "history = ann.fit(X_train, y_train, batch_size=32, epochs=15, validation_data=(X_val, y_val))"
      ],
      "execution_count": 12,
      "outputs": [
        {
          "output_type": "stream",
          "text": [
            "Epoch 1/15\n",
            "240/240 [==============================] - 0s 2ms/step - loss: 0.5370 - accuracy: 0.7822 - val_loss: 4279.9194 - val_accuracy: 0.7822\n",
            "Epoch 2/15\n",
            "240/240 [==============================] - 0s 1ms/step - loss: 0.4508 - accuracy: 0.8003 - val_loss: 3306.7859 - val_accuracy: 0.7052\n",
            "Epoch 3/15\n",
            "240/240 [==============================] - 0s 1ms/step - loss: 0.4241 - accuracy: 0.8055 - val_loss: 3230.1111 - val_accuracy: 0.6867\n",
            "Epoch 4/15\n",
            "240/240 [==============================] - 0s 1ms/step - loss: 0.4104 - accuracy: 0.8140 - val_loss: 2977.3340 - val_accuracy: 0.6889\n",
            "Epoch 5/15\n",
            "240/240 [==============================] - 0s 1ms/step - loss: 0.3973 - accuracy: 0.8234 - val_loss: 2771.5833 - val_accuracy: 0.6652\n",
            "Epoch 6/15\n",
            "240/240 [==============================] - 0s 1ms/step - loss: 0.3839 - accuracy: 0.8369 - val_loss: 2751.3850 - val_accuracy: 0.6326\n",
            "Epoch 7/15\n",
            "240/240 [==============================] - 0s 1ms/step - loss: 0.3714 - accuracy: 0.8460 - val_loss: 4471.5591 - val_accuracy: 0.5437\n",
            "Epoch 8/15\n",
            "240/240 [==============================] - 0s 1ms/step - loss: 0.3621 - accuracy: 0.8510 - val_loss: 2473.2703 - val_accuracy: 0.5807\n",
            "Epoch 9/15\n",
            "240/240 [==============================] - 0s 1ms/step - loss: 0.3552 - accuracy: 0.8561 - val_loss: 1909.5129 - val_accuracy: 0.6178\n",
            "Epoch 10/15\n",
            "240/240 [==============================] - 0s 1ms/step - loss: 0.3502 - accuracy: 0.8586 - val_loss: 2408.3838 - val_accuracy: 0.5756\n",
            "Epoch 11/15\n",
            "240/240 [==============================] - 0s 1ms/step - loss: 0.3471 - accuracy: 0.8576 - val_loss: 3718.4419 - val_accuracy: 0.5119\n",
            "Epoch 12/15\n",
            "240/240 [==============================] - 0s 1ms/step - loss: 0.3449 - accuracy: 0.8582 - val_loss: 5106.5039 - val_accuracy: 0.4933\n",
            "Epoch 13/15\n",
            "240/240 [==============================] - 0s 1ms/step - loss: 0.3438 - accuracy: 0.8593 - val_loss: 6715.3809 - val_accuracy: 0.4815\n",
            "Epoch 14/15\n",
            "240/240 [==============================] - 0s 1ms/step - loss: 0.3420 - accuracy: 0.8614 - val_loss: 5657.3818 - val_accuracy: 0.4822\n",
            "Epoch 15/15\n",
            "240/240 [==============================] - 0s 1ms/step - loss: 0.3409 - accuracy: 0.8607 - val_loss: 5378.6123 - val_accuracy: 0.4837\n"
          ],
          "name": "stdout"
        }
      ]
    },
    {
      "cell_type": "markdown",
      "metadata": {
        "id": "cpHLck1eCAzS",
        "colab_type": "text"
      },
      "source": [
        "# Evaluate Model"
      ]
    },
    {
      "cell_type": "markdown",
      "metadata": {
        "id": "QPy38MUJd27H",
        "colab_type": "text"
      },
      "source": [
        "## Learning Curve"
      ]
    },
    {
      "cell_type": "code",
      "metadata": {
        "id": "uwMmUf0Ad05f",
        "colab_type": "code",
        "colab": {
          "base_uri": "https://localhost:8080/",
          "height": 295
        },
        "outputId": "71a505a7-a731-46f8-e7e4-02f90cae3b7e"
      },
      "source": [
        "plt.plot([i for i in range(len(history.history[\"loss\"]))], history.history[\"loss\"], label=\"train\")\n",
        "plt.plot([i for i in range(len(history.history[\"val_loss\"]))], history.history[\"val_loss\"], label=\"validation\", color=\"yellow\")\n",
        "plt.legend(loc=\"upper left\")\n",
        "plt.title(\"Learning Curve\")\n",
        "plt.xlabel(\"Epoch\")\n",
        "plt.ylabel(\"Loss\")\n",
        "plt.show()"
      ],
      "execution_count": 13,
      "outputs": [
        {
          "output_type": "display_data",
          "data": {
            "image/png": "[encoded data removed]",
            "text/plain": [
              "<Figure size 432x288 with 1 Axes>"
            ]
          },
          "metadata": {
            "tags": [],
            "needs_background": "light"
          }
        }
      ]
    },
    {
      "cell_type": "code",
      "metadata": {
        "id": "_sjI0DZgnmHQ",
        "colab_type": "code",
        "colab": {
          "base_uri": "https://localhost:8080/",
          "height": 35
        },
        "outputId": "847b2e6e-1b54-4b41-a650-19dc7cc36a9e"
      },
      "source": [
        "history.history.keys()"
      ],
      "execution_count": 14,
      "outputs": [
        {
          "output_type": "execute_result",
          "data": {
            "text/plain": [
              "dict_keys(['loss', 'accuracy', 'val_loss', 'val_accuracy'])"
            ]
          },
          "metadata": {
            "tags": []
          },
          "execution_count": 14
        }
      ]
    },
    {
      "cell_type": "code",
      "metadata": {
        "id": "4Xlm-lVqnkdT",
        "colab_type": "code",
        "colab": {
          "base_uri": "https://localhost:8080/",
          "height": 295
        },
        "outputId": "21b81c6e-49f4-410d-80c0-3a67369d53b6"
      },
      "source": [
        "plt.plot([i for i in range(len(history.history[\"accuracy\"]))], history.history[\"accuracy\"], label=\"train\")\n",
        "plt.plot([i for i in range(len(history.history[\"val_accuracy\"]))], history.history[\"val_accuracy\"], label=\"validation\", color=\"yellow\")\n",
        "plt.legend(loc=\"upper left\")\n",
        "plt.title(\"accuracy\")\n",
        "plt.xlabel(\"Epoch\")\n",
        "plt.ylabel(\"accuracy\")\n",
        "plt.show()"
      ],
      "execution_count": 15,
      "outputs": [
        {
          "output_type": "display_data",
          "data": {
            "image/png": "[encoded data removed]",
            "text/plain": [
              "<Figure size 432x288 with 1 Axes>"
            ]
          },
          "metadata": {
            "tags": [],
            "needs_background": "light"
          }
        }
      ]
    },
    {
      "cell_type": "markdown",
      "metadata": {
        "id": "CCI1P-PjZMwy",
        "colab_type": "text"
      },
      "source": [
        "## Predict Test Results"
      ]
    },
    {
      "cell_type": "code",
      "metadata": {
        "id": "jzzSyK4_ZDsa",
        "colab_type": "code",
        "colab": {}
      },
      "source": [
        "y_pred = ann.predict(X_test)\n",
        "y_pred_binary = (y_pred > 0.5)"
      ],
      "execution_count": 16,
      "outputs": []
    },
    {
      "cell_type": "markdown",
      "metadata": {
        "id": "6kIsGb1rCAzS",
        "colab_type": "text"
      },
      "source": [
        "## Confusion Matrix"
      ]
    },
    {
      "cell_type": "code",
      "metadata": {
        "id": "3G4PpaDdZjvw",
        "colab_type": "code",
        "colab": {
          "base_uri": "https://localhost:8080/",
          "height": 54
        },
        "outputId": "509e5b52-7eca-4fec-a8aa-3ffce132b1a8"
      },
      "source": [
        "from sklearn.metrics import confusion_matrix, accuracy_score\n",
        "cm = confusion_matrix(y_test, y_pred_binary)\n",
        "cm"
      ],
      "execution_count": 17,
      "outputs": [
        {
          "output_type": "execute_result",
          "data": {
            "text/plain": [
              "array([[762,  27],\n",
              "       [115,  96]])"
            ]
          },
          "metadata": {
            "tags": []
          },
          "execution_count": 17
        }
      ]
    },
    {
      "cell_type": "code",
      "metadata": {
        "id": "NmzuiwG5ZxA4",
        "colab_type": "code",
        "colab": {
          "base_uri": "https://localhost:8080/",
          "height": 35
        },
        "outputId": "cdac1c24-ede1-4d3c-c499-4682a9d5d114"
      },
      "source": [
        "accuracy_score(y_test, y_pred_binary)"
      ],
      "execution_count": 18,
      "outputs": [
        {
          "output_type": "execute_result",
          "data": {
            "text/plain": [
              "0.858"
            ]
          },
          "metadata": {
            "tags": []
          },
          "execution_count": 18
        }
      ]
    }
  ]
}