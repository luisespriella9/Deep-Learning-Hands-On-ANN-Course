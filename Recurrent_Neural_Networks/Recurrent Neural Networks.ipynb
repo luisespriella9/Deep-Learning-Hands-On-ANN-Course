{
 "cells": [
  {
   "cell_type": "markdown",
   "metadata": {},
   "source": [
    "# Data Preprocessing"
   ]
  },
  {
   "cell_type": "code",
   "execution_count": 1,
   "metadata": {},
   "outputs": [],
   "source": [
    "import numpy as np\n",
    "import matplotlib.pyplot as plt\n",
    "import pandas as pd"
   ]
  },
  {
   "cell_type": "markdown",
   "metadata": {},
   "source": [
    "## Import Training Set"
   ]
  },
  {
   "cell_type": "code",
   "execution_count": 2,
   "metadata": {},
   "outputs": [
    {
     "data": {
      "text/html": [
       "<div>\n",
       "<style scoped>\n",
       "    .dataframe tbody tr th:only-of-type {\n",
       "        vertical-align: middle;\n",
       "    }\n",
       "\n",
       "    .dataframe tbody tr th {\n",
       "        vertical-align: top;\n",
       "    }\n",
       "\n",
       "    .dataframe thead th {\n",
       "        text-align: right;\n",
       "    }\n",
       "</style>\n",
       "<table border=\"1\" class=\"dataframe\">\n",
       "  <thead>\n",
       "    <tr style=\"text-align: right;\">\n",
       "      <th></th>\n",
       "      <th>Date</th>\n",
       "      <th>Open</th>\n",
       "      <th>High</th>\n",
       "      <th>Low</th>\n",
       "      <th>Close</th>\n",
       "      <th>Volume</th>\n",
       "    </tr>\n",
       "  </thead>\n",
       "  <tbody>\n",
       "    <tr>\n",
       "      <th>0</th>\n",
       "      <td>1/3/2012</td>\n",
       "      <td>325.25</td>\n",
       "      <td>332.83</td>\n",
       "      <td>324.97</td>\n",
       "      <td>663.59</td>\n",
       "      <td>7,380,500</td>\n",
       "    </tr>\n",
       "    <tr>\n",
       "      <th>1</th>\n",
       "      <td>1/4/2012</td>\n",
       "      <td>331.27</td>\n",
       "      <td>333.87</td>\n",
       "      <td>329.08</td>\n",
       "      <td>666.45</td>\n",
       "      <td>5,749,400</td>\n",
       "    </tr>\n",
       "    <tr>\n",
       "      <th>2</th>\n",
       "      <td>1/5/2012</td>\n",
       "      <td>329.83</td>\n",
       "      <td>330.75</td>\n",
       "      <td>326.89</td>\n",
       "      <td>657.21</td>\n",
       "      <td>6,590,300</td>\n",
       "    </tr>\n",
       "    <tr>\n",
       "      <th>3</th>\n",
       "      <td>1/6/2012</td>\n",
       "      <td>328.34</td>\n",
       "      <td>328.77</td>\n",
       "      <td>323.68</td>\n",
       "      <td>648.24</td>\n",
       "      <td>5,405,900</td>\n",
       "    </tr>\n",
       "    <tr>\n",
       "      <th>4</th>\n",
       "      <td>1/9/2012</td>\n",
       "      <td>322.04</td>\n",
       "      <td>322.29</td>\n",
       "      <td>309.46</td>\n",
       "      <td>620.76</td>\n",
       "      <td>11,688,800</td>\n",
       "    </tr>\n",
       "  </tbody>\n",
       "</table>\n",
       "</div>"
      ],
      "text/plain": [
       "       Date    Open    High     Low   Close      Volume\n",
       "0  1/3/2012  325.25  332.83  324.97  663.59   7,380,500\n",
       "1  1/4/2012  331.27  333.87  329.08  666.45   5,749,400\n",
       "2  1/5/2012  329.83  330.75  326.89  657.21   6,590,300\n",
       "3  1/6/2012  328.34  328.77  323.68  648.24   5,405,900\n",
       "4  1/9/2012  322.04  322.29  309.46  620.76  11,688,800"
      ]
     },
     "execution_count": 2,
     "metadata": {},
     "output_type": "execute_result"
    }
   ],
   "source": [
    "train_dataset = pd.read_csv('Google_Stock_Price_Train.csv')\n",
    "train_dataset.head()"
   ]
  },
  {
   "cell_type": "code",
   "execution_count": 3,
   "metadata": {},
   "outputs": [
    {
     "data": {
      "text/plain": [
       "array([[325.25],\n",
       "       [331.27],\n",
       "       [329.83],\n",
       "       [328.34],\n",
       "       [322.04]])"
      ]
     },
     "execution_count": 3,
     "metadata": {},
     "output_type": "execute_result"
    }
   ],
   "source": [
    "training_set = train_dataset.iloc[:, 1:2].values\n",
    "training_set[:5]"
   ]
  },
  {
   "cell_type": "markdown",
   "metadata": {},
   "source": [
    "## Feature Scaling (Normalization)"
   ]
  },
  {
   "cell_type": "code",
   "execution_count": 4,
   "metadata": {},
   "outputs": [
    {
     "data": {
      "text/plain": [
       "array([[0.08581368],\n",
       "       [0.09701243],\n",
       "       [0.09433366],\n",
       "       [0.09156187],\n",
       "       [0.07984225]])"
      ]
     },
     "execution_count": 4,
     "metadata": {},
     "output_type": "execute_result"
    }
   ],
   "source": [
    "from sklearn.preprocessing import MinMaxScaler\n",
    "\n",
    "scaler = MinMaxScaler(feature_range = (0, 1))\n",
    "\n",
    "scaled_training_set = scaler.fit_transform(training_set)\n",
    "scaled_training_set[:5]"
   ]
  },
  {
   "cell_type": "markdown",
   "metadata": {},
   "source": [
    "## Create Data Structure with t timesteps (financial steps, every 20 is equivalent to a month) and 1 output (look at t stock prices before time t, based on the trends, predict)"
   ]
  },
  {
   "cell_type": "code",
   "execution_count": 5,
   "metadata": {},
   "outputs": [
    {
     "name": "stdout",
     "output_type": "stream",
     "text": [
      "[[0.08581368 0.09701243 0.09433366 ... 0.0180445  0.0180817  0.00710618]\n",
      " [0.09701243 0.09433366 0.09156187 ... 0.0180817  0.00710618 0.0064923 ]\n",
      " [0.09433366 0.09156187 0.07984225 ... 0.00710618 0.0064923  0.00225091]\n",
      " ...\n",
      " [0.78201503 0.79792023 0.81851328 ... 0.95475854 0.95204256 0.95163331]\n",
      " [0.79792023 0.81851328 0.82688444 ... 0.95204256 0.95163331 0.95725128]\n",
      " [0.81851328 0.82688444 0.82308952 ... 0.95163331 0.95725128 0.93796041]]\n",
      "[0.0064923  0.00225091 0.00682714 ... 0.95725128 0.93796041 0.93688146]\n"
     ]
    }
   ],
   "source": [
    "x_train = []\n",
    "y_train = []\n",
    "for i in range(120, len(scaled_training_set)):\n",
    "    x_train.append(scaled_training_set[i-120:i, 0])\n",
    "    y_train.append(scaled_training_set[i, 0])\n",
    "    \n",
    "x_train, y_train = np.array(x_train), np.array(y_train)\n",
    "print(x_train)\n",
    "print(y_train)"
   ]
  },
  {
   "cell_type": "markdown",
   "metadata": {},
   "source": [
    "## Reshaping"
   ]
  },
  {
   "cell_type": "markdown",
   "metadata": {},
   "source": [
    "Input shape: (batch_size, timesteps, input_dim)"
   ]
  },
  {
   "cell_type": "code",
   "execution_count": 6,
   "metadata": {},
   "outputs": [
    {
     "data": {
      "text/plain": [
       "array([[[0.08581368],\n",
       "        [0.09701243],\n",
       "        [0.09433366],\n",
       "        ...,\n",
       "        [0.0180445 ],\n",
       "        [0.0180817 ],\n",
       "        [0.00710618]],\n",
       "\n",
       "       [[0.09701243],\n",
       "        [0.09433366],\n",
       "        [0.09156187],\n",
       "        ...,\n",
       "        [0.0180817 ],\n",
       "        [0.00710618],\n",
       "        [0.0064923 ]],\n",
       "\n",
       "       [[0.09433366],\n",
       "        [0.09156187],\n",
       "        [0.07984225],\n",
       "        ...,\n",
       "        [0.00710618],\n",
       "        [0.0064923 ],\n",
       "        [0.00225091]],\n",
       "\n",
       "       ...,\n",
       "\n",
       "       [[0.78201503],\n",
       "        [0.79792023],\n",
       "        [0.81851328],\n",
       "        ...,\n",
       "        [0.95475854],\n",
       "        [0.95204256],\n",
       "        [0.95163331]],\n",
       "\n",
       "       [[0.79792023],\n",
       "        [0.81851328],\n",
       "        [0.82688444],\n",
       "        ...,\n",
       "        [0.95204256],\n",
       "        [0.95163331],\n",
       "        [0.95725128]],\n",
       "\n",
       "       [[0.81851328],\n",
       "        [0.82688444],\n",
       "        [0.82308952],\n",
       "        ...,\n",
       "        [0.95163331],\n",
       "        [0.95725128],\n",
       "        [0.93796041]]])"
      ]
     },
     "execution_count": 6,
     "metadata": {},
     "output_type": "execute_result"
    }
   ],
   "source": [
    "x_train = np.reshape(x_train, (x_train.shape[0], x_train.shape[1], 1))\n",
    "x_train"
   ]
  },
  {
   "cell_type": "markdown",
   "metadata": {},
   "source": [
    "# Building the RNN"
   ]
  },
  {
   "cell_type": "code",
   "execution_count": 7,
   "metadata": {},
   "outputs": [
    {
     "name": "stderr",
     "output_type": "stream",
     "text": [
      "Using TensorFlow backend.\n"
     ]
    }
   ],
   "source": [
    "from keras.models import Sequential\n",
    "from keras.layers import Dense, LSTM, Dropout"
   ]
  },
  {
   "cell_type": "code",
   "execution_count": 8,
   "metadata": {},
   "outputs": [],
   "source": [
    "regressor = Sequential()\n",
    "\n",
    "#add first LSTM layer and Dropout regularization\n",
    "first_lstm_layer = LSTM(units = 80, return_sequences=True, input_shape = (x_train.shape[1], 1), )\n",
    "regressor.add(first_lstm_layer)\n",
    "\n",
    "dropout_layer = Dropout(rate = 0.2)\n",
    "regressor.add(dropout_layer)\n",
    "\n",
    "#Add 5 more LSTM Layers\n",
    "#second layer\n",
    "regressor.add(LSTM(units = 80, return_sequences=True))\n",
    "regressor.add(Dropout(rate = 0.2))\n",
    "#third layer\n",
    "regressor.add(LSTM(units = 80, return_sequences=True))\n",
    "regressor.add(Dropout(rate = 0.2))\n",
    "#fourth layer\n",
    "regressor.add(LSTM(units = 80, return_sequences=True))\n",
    "regressor.add(Dropout(rate = 0.2))\n",
    "#fifth layer\n",
    "regressor.add(LSTM(units = 80, return_sequences=True))\n",
    "regressor.add(Dropout(rate = 0.2))\n",
    "#sixth layer\n",
    "regressor.add(LSTM(units = 80))\n",
    "regressor.add(Dropout(rate = 0.2))\n",
    "\n",
    "#add output layer\n",
    "output_layer = Dense(units = 1)\n",
    "regressor.add(output_layer)\n",
    "\n",
    "#compile RNN\n",
    "regressor.compile(optimizer = 'adam', loss = 'mean_squared_error')"
   ]
  },
  {
   "cell_type": "markdown",
   "metadata": {},
   "source": [
    "## Fitting RNN to training set"
   ]
  },
  {
   "cell_type": "code",
   "execution_count": 9,
   "metadata": {},
   "outputs": [
    {
     "name": "stdout",
     "output_type": "stream",
     "text": [
      "Epoch 1/120\n",
      "1138/1138 [==============================] - 35s 31ms/step - loss: 0.0357\n",
      "Epoch 2/120\n",
      "1138/1138 [==============================] - 25s 22ms/step - loss: 0.0069\n",
      "Epoch 3/120\n",
      "1138/1138 [==============================] - 23s 20ms/step - loss: 0.0059\n",
      "Epoch 4/120\n",
      "1138/1138 [==============================] - 23s 20ms/step - loss: 0.0053\n",
      "Epoch 5/120\n",
      "1138/1138 [==============================] - 23s 21ms/step - loss: 0.0061\n",
      "Epoch 6/120\n",
      "1138/1138 [==============================] - 23s 20ms/step - loss: 0.0058\n",
      "Epoch 7/120\n",
      "1138/1138 [==============================] - 24s 21ms/step - loss: 0.0059\n",
      "Epoch 8/120\n",
      "1138/1138 [==============================] - 24s 21ms/step - loss: 0.0053\n",
      "Epoch 9/120\n",
      "1138/1138 [==============================] - 24s 21ms/step - loss: 0.0053\n",
      "Epoch 10/120\n",
      "1138/1138 [==============================] - 24s 21ms/step - loss: 0.0054\n",
      "Epoch 11/120\n",
      "1138/1138 [==============================] - 24s 21ms/step - loss: 0.0045\n",
      "Epoch 12/120\n",
      "1138/1138 [==============================] - 24s 21ms/step - loss: 0.0040\n",
      "Epoch 13/120\n",
      "1138/1138 [==============================] - 25s 22ms/step - loss: 0.0039\n",
      "Epoch 14/120\n",
      "1138/1138 [==============================] - 25s 22ms/step - loss: 0.0041\n",
      "Epoch 15/120\n",
      "1138/1138 [==============================] - 24s 21ms/step - loss: 0.0039\n",
      "Epoch 16/120\n",
      "1138/1138 [==============================] - 26s 23ms/step - loss: 0.0038\n",
      "Epoch 17/120\n",
      "1138/1138 [==============================] - 24s 21ms/step - loss: 0.0043\n",
      "Epoch 18/120\n",
      "1138/1138 [==============================] - 25s 22ms/step - loss: 0.0035\n",
      "Epoch 19/120\n",
      "1138/1138 [==============================] - 26s 23ms/step - loss: 0.0035\n",
      "Epoch 20/120\n",
      "1138/1138 [==============================] - 25s 22ms/step - loss: 0.0036\n",
      "Epoch 21/120\n",
      "1138/1138 [==============================] - 27s 23ms/step - loss: 0.0032\n",
      "Epoch 22/120\n",
      "1138/1138 [==============================] - 28s 24ms/step - loss: 0.0033\n",
      "Epoch 23/120\n",
      "1138/1138 [==============================] - 28s 25ms/step - loss: 0.0031\n",
      "Epoch 24/120\n",
      "1138/1138 [==============================] - 27s 23ms/step - loss: 0.0034\n",
      "Epoch 25/120\n",
      "1138/1138 [==============================] - 27s 23ms/step - loss: 0.0029\n",
      "Epoch 26/120\n",
      "1138/1138 [==============================] - 27s 24ms/step - loss: 0.0032\n",
      "Epoch 27/120\n",
      "1138/1138 [==============================] - 28s 25ms/step - loss: 0.0028\n",
      "Epoch 28/120\n",
      "1138/1138 [==============================] - 28s 25ms/step - loss: 0.0034\n",
      "Epoch 29/120\n",
      "1138/1138 [==============================] - 28s 24ms/step - loss: 0.0030\n",
      "Epoch 30/120\n",
      "1138/1138 [==============================] - 28s 24ms/step - loss: 0.0025\n",
      "Epoch 31/120\n",
      "1138/1138 [==============================] - 26s 23ms/step - loss: 0.0027\n",
      "Epoch 32/120\n",
      "1138/1138 [==============================] - 26s 23ms/step - loss: 0.0029\n",
      "Epoch 33/120\n",
      "1138/1138 [==============================] - 28s 25ms/step - loss: 0.0026\n",
      "Epoch 34/120\n",
      "1138/1138 [==============================] - 28s 25ms/step - loss: 0.0028\n",
      "Epoch 35/120\n",
      "1138/1138 [==============================] - 28s 24ms/step - loss: 0.0025\n",
      "Epoch 36/120\n",
      "1138/1138 [==============================] - 27s 24ms/step - loss: 0.0027\n",
      "Epoch 37/120\n",
      "1138/1138 [==============================] - 26s 23ms/step - loss: 0.0025\n",
      "Epoch 38/120\n",
      "1138/1138 [==============================] - 27s 24ms/step - loss: 0.0027\n",
      "Epoch 39/120\n",
      "1138/1138 [==============================] - 28s 25ms/step - loss: 0.0030\n",
      "Epoch 40/120\n",
      "1138/1138 [==============================] - 27s 23ms/step - loss: 0.0029\n",
      "Epoch 41/120\n",
      "1138/1138 [==============================] - 27s 24ms/step - loss: 0.0024\n",
      "Epoch 42/120\n",
      "1138/1138 [==============================] - 27s 24ms/step - loss: 0.0026\n",
      "Epoch 43/120\n",
      "1138/1138 [==============================] - 28s 25ms/step - loss: 0.0028\n",
      "Epoch 44/120\n",
      "1138/1138 [==============================] - 28s 25ms/step - loss: 0.0022\n",
      "Epoch 45/120\n",
      "1138/1138 [==============================] - 27s 23ms/step - loss: 0.0025\n",
      "Epoch 46/120\n",
      "1138/1138 [==============================] - 28s 25ms/step - loss: 0.0023\n",
      "Epoch 47/120\n",
      "1138/1138 [==============================] - 27s 24ms/step - loss: 0.0022\n",
      "Epoch 48/120\n",
      "1138/1138 [==============================] - 28s 25ms/step - loss: 0.0022\n",
      "Epoch 49/120\n",
      "1138/1138 [==============================] - 28s 25ms/step - loss: 0.0023\n",
      "Epoch 50/120\n",
      "1138/1138 [==============================] - 27s 24ms/step - loss: 0.0020\n",
      "Epoch 51/120\n",
      "1138/1138 [==============================] - 28s 25ms/step - loss: 0.0022\n",
      "Epoch 52/120\n",
      "1138/1138 [==============================] - 28s 25ms/step - loss: 0.0025\n",
      "Epoch 53/120\n",
      "1138/1138 [==============================] - 28s 25ms/step - loss: 0.0025\n",
      "Epoch 54/120\n",
      "1138/1138 [==============================] - 28s 25ms/step - loss: 0.0023\n",
      "Epoch 55/120\n",
      "1138/1138 [==============================] - 28s 25ms/step - loss: 0.0022\n",
      "Epoch 56/120\n",
      "1138/1138 [==============================] - 26s 23ms/step - loss: 0.0023\n",
      "Epoch 57/120\n",
      "1138/1138 [==============================] - 28s 25ms/step - loss: 0.0019\n",
      "Epoch 58/120\n",
      "1138/1138 [==============================] - 28s 25ms/step - loss: 0.0024\n",
      "Epoch 59/120\n",
      "1138/1138 [==============================] - 27s 24ms/step - loss: 0.0019\n",
      "Epoch 60/120\n",
      "1138/1138 [==============================] - 29s 25ms/step - loss: 0.0019\n",
      "Epoch 61/120\n",
      "1138/1138 [==============================] - 28s 25ms/step - loss: 0.0023\n",
      "Epoch 62/120\n",
      "1138/1138 [==============================] - 28s 25ms/step - loss: 0.0020\n",
      "Epoch 63/120\n",
      "1138/1138 [==============================] - 29s 26ms/step - loss: 0.0019\n",
      "Epoch 64/120\n",
      "1138/1138 [==============================] - 31s 27ms/step - loss: 0.0019\n",
      "Epoch 65/120\n",
      "1138/1138 [==============================] - 30s 26ms/step - loss: 0.0018\n",
      "Epoch 66/120\n",
      "1138/1138 [==============================] - 31s 27ms/step - loss: 0.0016\n",
      "Epoch 67/120\n",
      "1138/1138 [==============================] - 31s 27ms/step - loss: 0.0018\n",
      "Epoch 68/120\n",
      "1138/1138 [==============================] - 31s 27ms/step - loss: 0.0018\n",
      "Epoch 69/120\n",
      "1138/1138 [==============================] - 31s 27ms/step - loss: 0.0019\n",
      "Epoch 70/120\n",
      "1138/1138 [==============================] - 29s 25ms/step - loss: 0.0019\n",
      "Epoch 71/120\n",
      "1138/1138 [==============================] - 32s 28ms/step - loss: 0.0017\n",
      "Epoch 72/120\n",
      "1138/1138 [==============================] - 29s 25ms/step - loss: 0.0018\n",
      "Epoch 73/120\n",
      "1138/1138 [==============================] - 30s 27ms/step - loss: 0.0018\n",
      "Epoch 74/120\n",
      "1138/1138 [==============================] - 31s 27ms/step - loss: 0.0016\n",
      "Epoch 75/120\n",
      "1138/1138 [==============================] - 31s 27ms/step - loss: 0.0020\n",
      "Epoch 76/120\n",
      "1138/1138 [==============================] - 32s 28ms/step - loss: 0.0018\n",
      "Epoch 77/120\n",
      "1138/1138 [==============================] - 31s 27ms/step - loss: 0.0016\n",
      "Epoch 78/120\n",
      "1138/1138 [==============================] - 30s 27ms/step - loss: 0.0016\n",
      "Epoch 79/120\n",
      "1138/1138 [==============================] - 30s 27ms/step - loss: 0.0015\n",
      "Epoch 80/120\n",
      "1138/1138 [==============================] - 31s 27ms/step - loss: 0.0017\n",
      "Epoch 81/120\n",
      "1138/1138 [==============================] - 30s 26ms/step - loss: 0.0017\n",
      "Epoch 82/120\n",
      "1138/1138 [==============================] - 31s 27ms/step - loss: 0.0015\n",
      "Epoch 83/120\n",
      "1138/1138 [==============================] - 30s 26ms/step - loss: 0.0015\n",
      "Epoch 84/120\n",
      "1138/1138 [==============================] - 31s 28ms/step - loss: 0.0015\n",
      "Epoch 85/120\n",
      "1138/1138 [==============================] - 30s 26ms/step - loss: 0.0015\n",
      "Epoch 86/120\n",
      "1138/1138 [==============================] - 30s 26ms/step - loss: 0.0016\n",
      "Epoch 87/120\n",
      "1138/1138 [==============================] - 30s 26ms/step - loss: 0.0014\n",
      "Epoch 88/120\n",
      "1138/1138 [==============================] - 30s 27ms/step - loss: 0.0015\n",
      "Epoch 89/120\n",
      "1138/1138 [==============================] - 29s 26ms/step - loss: 0.0015\n",
      "Epoch 90/120\n",
      "1138/1138 [==============================] - 31s 27ms/step - loss: 0.0014\n",
      "Epoch 91/120\n",
      "1138/1138 [==============================] - 33s 29ms/step - loss: 0.0015\n",
      "Epoch 92/120\n",
      "1138/1138 [==============================] - 33s 29ms/step - loss: 0.0015\n",
      "Epoch 93/120\n",
      "1138/1138 [==============================] - 34s 30ms/step - loss: 0.0013\n",
      "Epoch 94/120\n",
      "1138/1138 [==============================] - 33s 29ms/step - loss: 0.0014\n",
      "Epoch 95/120\n"
     ]
    },
    {
     "name": "stdout",
     "output_type": "stream",
     "text": [
      "1138/1138 [==============================] - 33s 29ms/step - loss: 0.0015\n",
      "Epoch 96/120\n",
      "1138/1138 [==============================] - 34s 30ms/step - loss: 0.0013\n",
      "Epoch 97/120\n",
      "1138/1138 [==============================] - 34s 30ms/step - loss: 0.0012\n",
      "Epoch 98/120\n",
      "1138/1138 [==============================] - 34s 30ms/step - loss: 0.0014\n",
      "Epoch 99/120\n",
      "1138/1138 [==============================] - 34s 30ms/step - loss: 0.0016\n",
      "Epoch 100/120\n",
      "1138/1138 [==============================] - 34s 30ms/step - loss: 0.0016\n",
      "Epoch 101/120\n",
      "1138/1138 [==============================] - 35s 30ms/step - loss: 0.0014\n",
      "Epoch 102/120\n",
      "1138/1138 [==============================] - 32s 28ms/step - loss: 0.0014\n",
      "Epoch 103/120\n",
      "1138/1138 [==============================] - 34s 30ms/step - loss: 0.0016\n",
      "Epoch 104/120\n",
      "1138/1138 [==============================] - 34s 30ms/step - loss: 0.0015\n",
      "Epoch 105/120\n",
      "1138/1138 [==============================] - 35s 31ms/step - loss: 0.0015\n",
      "Epoch 106/120\n",
      "1138/1138 [==============================] - 35s 30ms/step - loss: 0.0013\n",
      "Epoch 107/120\n",
      "1138/1138 [==============================] - 35s 31ms/step - loss: 0.0014\n",
      "Epoch 108/120\n",
      "1138/1138 [==============================] - 33s 29ms/step - loss: 0.0015\n",
      "Epoch 109/120\n",
      "1138/1138 [==============================] - 34s 30ms/step - loss: 0.0013\n",
      "Epoch 110/120\n",
      "1138/1138 [==============================] - 34s 30ms/step - loss: 0.0014\n",
      "Epoch 111/120\n",
      "1138/1138 [==============================] - 33s 29ms/step - loss: 0.0012\n",
      "Epoch 112/120\n",
      "1138/1138 [==============================] - 34s 30ms/step - loss: 0.0014\n",
      "Epoch 113/120\n",
      "1138/1138 [==============================] - 34s 30ms/step - loss: 0.0013\n",
      "Epoch 114/120\n",
      "1138/1138 [==============================] - 32s 28ms/step - loss: 0.0011\n",
      "Epoch 115/120\n",
      "1138/1138 [==============================] - 34s 30ms/step - loss: 0.0011\n",
      "Epoch 116/120\n",
      "1138/1138 [==============================] - 36s 32ms/step - loss: 0.0012\n",
      "Epoch 117/120\n",
      "1138/1138 [==============================] - 33s 29ms/step - loss: 0.0012\n",
      "Epoch 118/120\n",
      "1138/1138 [==============================] - 34s 30ms/step - loss: 0.0013\n",
      "Epoch 119/120\n",
      "1138/1138 [==============================] - 34s 30ms/step - loss: 0.0011\n",
      "Epoch 120/120\n",
      "1138/1138 [==============================] - 34s 30ms/step - loss: 0.0015\n"
     ]
    },
    {
     "data": {
      "text/plain": [
       "<keras.callbacks.callbacks.History at 0x17c2e9eff98>"
      ]
     },
     "execution_count": 9,
     "metadata": {},
     "output_type": "execute_result"
    }
   ],
   "source": [
    "regressor.fit(x = x_train, y = y_train, epochs = 120, batch_size = 32, workers = 16)"
   ]
  },
  {
   "cell_type": "markdown",
   "metadata": {},
   "source": [
    "# Making predictions and visualizing Results"
   ]
  },
  {
   "cell_type": "markdown",
   "metadata": {},
   "source": [
    "## Get Real stock price of 2017"
   ]
  },
  {
   "cell_type": "code",
   "execution_count": 10,
   "metadata": {},
   "outputs": [
    {
     "data": {
      "text/html": [
       "<div>\n",
       "<style scoped>\n",
       "    .dataframe tbody tr th:only-of-type {\n",
       "        vertical-align: middle;\n",
       "    }\n",
       "\n",
       "    .dataframe tbody tr th {\n",
       "        vertical-align: top;\n",
       "    }\n",
       "\n",
       "    .dataframe thead th {\n",
       "        text-align: right;\n",
       "    }\n",
       "</style>\n",
       "<table border=\"1\" class=\"dataframe\">\n",
       "  <thead>\n",
       "    <tr style=\"text-align: right;\">\n",
       "      <th></th>\n",
       "      <th>Date</th>\n",
       "      <th>Open</th>\n",
       "      <th>High</th>\n",
       "      <th>Low</th>\n",
       "      <th>Close</th>\n",
       "      <th>Volume</th>\n",
       "    </tr>\n",
       "  </thead>\n",
       "  <tbody>\n",
       "    <tr>\n",
       "      <th>0</th>\n",
       "      <td>1/3/2017</td>\n",
       "      <td>778.81</td>\n",
       "      <td>789.63</td>\n",
       "      <td>775.80</td>\n",
       "      <td>786.14</td>\n",
       "      <td>1,657,300</td>\n",
       "    </tr>\n",
       "    <tr>\n",
       "      <th>1</th>\n",
       "      <td>1/4/2017</td>\n",
       "      <td>788.36</td>\n",
       "      <td>791.34</td>\n",
       "      <td>783.16</td>\n",
       "      <td>786.90</td>\n",
       "      <td>1,073,000</td>\n",
       "    </tr>\n",
       "    <tr>\n",
       "      <th>2</th>\n",
       "      <td>1/5/2017</td>\n",
       "      <td>786.08</td>\n",
       "      <td>794.48</td>\n",
       "      <td>785.02</td>\n",
       "      <td>794.02</td>\n",
       "      <td>1,335,200</td>\n",
       "    </tr>\n",
       "    <tr>\n",
       "      <th>3</th>\n",
       "      <td>1/6/2017</td>\n",
       "      <td>795.26</td>\n",
       "      <td>807.90</td>\n",
       "      <td>792.20</td>\n",
       "      <td>806.15</td>\n",
       "      <td>1,640,200</td>\n",
       "    </tr>\n",
       "    <tr>\n",
       "      <th>4</th>\n",
       "      <td>1/9/2017</td>\n",
       "      <td>806.40</td>\n",
       "      <td>809.97</td>\n",
       "      <td>802.83</td>\n",
       "      <td>806.65</td>\n",
       "      <td>1,272,400</td>\n",
       "    </tr>\n",
       "  </tbody>\n",
       "</table>\n",
       "</div>"
      ],
      "text/plain": [
       "       Date    Open    High     Low   Close     Volume\n",
       "0  1/3/2017  778.81  789.63  775.80  786.14  1,657,300\n",
       "1  1/4/2017  788.36  791.34  783.16  786.90  1,073,000\n",
       "2  1/5/2017  786.08  794.48  785.02  794.02  1,335,200\n",
       "3  1/6/2017  795.26  807.90  792.20  806.15  1,640,200\n",
       "4  1/9/2017  806.40  809.97  802.83  806.65  1,272,400"
      ]
     },
     "execution_count": 10,
     "metadata": {},
     "output_type": "execute_result"
    }
   ],
   "source": [
    "test_dataset = pd.read_csv('Google_Stock_Price_Test.csv')\n",
    "test_dataset.head()"
   ]
  },
  {
   "cell_type": "code",
   "execution_count": 11,
   "metadata": {},
   "outputs": [
    {
     "data": {
      "text/plain": [
       "array([[778.81],\n",
       "       [788.36],\n",
       "       [786.08],\n",
       "       [795.26],\n",
       "       [806.4 ]])"
      ]
     },
     "execution_count": 11,
     "metadata": {},
     "output_type": "execute_result"
    }
   ],
   "source": [
    "real_stock_price = test_dataset.iloc[:, 1:2].values\n",
    "real_stock_price[:5]"
   ]
  },
  {
   "cell_type": "markdown",
   "metadata": {},
   "source": [
    "## Get predicted stock price of 2017"
   ]
  },
  {
   "cell_type": "code",
   "execution_count": 12,
   "metadata": {},
   "outputs": [
    {
     "data": {
      "text/plain": [
       "0    325.25\n",
       "1    331.27\n",
       "2    329.83\n",
       "3    328.34\n",
       "4    322.04\n",
       "Name: Open, dtype: float64"
      ]
     },
     "execution_count": 12,
     "metadata": {},
     "output_type": "execute_result"
    }
   ],
   "source": [
    "dataset_total = pd.concat((train_dataset['Open'], test_dataset['Open']), axis = 0)\n",
    "dataset_total.head()"
   ]
  },
  {
   "cell_type": "code",
   "execution_count": 15,
   "metadata": {},
   "outputs": [],
   "source": [
    "inputs = dataset_total[len(dataset_total)-len(test_dataset)-120:].values\n",
    "inputs = inputs.reshape(-1, 1) #set to right format\n",
    "\n",
    "#scale inputs\n",
    "inputs = scaler.fit_transform(inputs)"
   ]
  },
  {
   "cell_type": "code",
   "execution_count": 16,
   "metadata": {},
   "outputs": [],
   "source": [
    "x_test = []\n",
    "for i in range(120, 120+len(test_dataset)):\n",
    "    x_test.append(inputs[i-120:i, 0])\n",
    "\n",
    "x_test = np.array(x_test)\n",
    "x_test = np.reshape(x_test, (x_test.shape[0], x_test.shape[1], 1))"
   ]
  },
  {
   "cell_type": "code",
   "execution_count": 17,
   "metadata": {},
   "outputs": [],
   "source": [
    "predicted_stock_price = regressor.predict(x_test)\n",
    "predicted_stock_price = scaler.inverse_transform(predicted_stock_price)"
   ]
  },
  {
   "cell_type": "markdown",
   "metadata": {},
   "source": [
    "## Visualize Results"
   ]
  },
  {
   "cell_type": "code",
   "execution_count": 18,
   "metadata": {},
   "outputs": [
    {
     "data": {
      "image/png": "[encoded data removed]",
      "text/plain": [
       "<Figure size 432x288 with 1 Axes>"
      ]
     },
     "metadata": {
      "needs_background": "light"
     },
     "output_type": "display_data"
    }
   ],
   "source": [
    "plt.plot(real_stock_price, color='red', label='Real Google Stock Price')\n",
    "plt.plot(predicted_stock_price, color='yellow', label='Predicted Google Stock Price')\n",
    "plt.title('Google Real Vs Predicted Stcok Price')\n",
    "plt.xlabel('Time')\n",
    "plt.ylabel('Google Stock Price Prediction')\n",
    "plt.legend()\n",
    "plt.show()"
   ]
  }
 ],
 "metadata": {
  "kernelspec": {
   "display_name": "Python 3",
   "language": "python",
   "name": "python3"
  },
  "language_info": {
   "codemirror_mode": {
    "name": "ipython",
    "version": 3
   },
   "file_extension": ".py",
   "mimetype": "text/x-python",
   "name": "python",
   "nbconvert_exporter": "python",
   "pygments_lexer": "ipython3",
   "version": "3.6.10"
  }
 },
 "nbformat": 4,
 "nbformat_minor": 4
}
