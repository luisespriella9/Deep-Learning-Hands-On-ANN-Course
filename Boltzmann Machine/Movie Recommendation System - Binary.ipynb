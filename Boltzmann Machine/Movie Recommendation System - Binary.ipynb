{
 "cells": [
  {
   "cell_type": "markdown",
   "metadata": {},
   "source": [
    "## Importing Libraries"
   ]
  },
  {
   "cell_type": "code",
   "execution_count": 1,
   "metadata": {},
   "outputs": [],
   "source": [
    "import numpy as np\n",
    "import pandas as pd\n",
    "import torch\n",
    "import torch.nn as nn\n",
    "import torch.nn.parallel\n",
    "import torch.optim as optim\n",
    "import torch.utils.data\n",
    "from torch.autograd import Variable"
   ]
  },
  {
   "cell_type": "markdown",
   "metadata": {},
   "source": [
    "# Analyze the Datasets"
   ]
  },
  {
   "cell_type": "code",
   "execution_count": 2,
   "metadata": {},
   "outputs": [
    {
     "data": {
      "text/html": [
       "<div>\n",
       "<style scoped>\n",
       "    .dataframe tbody tr th:only-of-type {\n",
       "        vertical-align: middle;\n",
       "    }\n",
       "\n",
       "    .dataframe tbody tr th {\n",
       "        vertical-align: top;\n",
       "    }\n",
       "\n",
       "    .dataframe thead th {\n",
       "        text-align: right;\n",
       "    }\n",
       "</style>\n",
       "<table border=\"1\" class=\"dataframe\">\n",
       "  <thead>\n",
       "    <tr style=\"text-align: right;\">\n",
       "      <th></th>\n",
       "      <th>Id</th>\n",
       "      <th>Title</th>\n",
       "      <th>Category</th>\n",
       "    </tr>\n",
       "  </thead>\n",
       "  <tbody>\n",
       "    <tr>\n",
       "      <th>0</th>\n",
       "      <td>1</td>\n",
       "      <td>Toy Story (1995)</td>\n",
       "      <td>Animation|Children's|Comedy</td>\n",
       "    </tr>\n",
       "    <tr>\n",
       "      <th>1</th>\n",
       "      <td>2</td>\n",
       "      <td>Jumanji (1995)</td>\n",
       "      <td>Adventure|Children's|Fantasy</td>\n",
       "    </tr>\n",
       "    <tr>\n",
       "      <th>2</th>\n",
       "      <td>3</td>\n",
       "      <td>Grumpier Old Men (1995)</td>\n",
       "      <td>Comedy|Romance</td>\n",
       "    </tr>\n",
       "    <tr>\n",
       "      <th>3</th>\n",
       "      <td>4</td>\n",
       "      <td>Waiting to Exhale (1995)</td>\n",
       "      <td>Comedy|Drama</td>\n",
       "    </tr>\n",
       "    <tr>\n",
       "      <th>4</th>\n",
       "      <td>5</td>\n",
       "      <td>Father of the Bride Part II (1995)</td>\n",
       "      <td>Comedy</td>\n",
       "    </tr>\n",
       "  </tbody>\n",
       "</table>\n",
       "</div>"
      ],
      "text/plain": [
       "   Id                               Title                      Category\n",
       "0   1                    Toy Story (1995)   Animation|Children's|Comedy\n",
       "1   2                      Jumanji (1995)  Adventure|Children's|Fantasy\n",
       "2   3             Grumpier Old Men (1995)                Comedy|Romance\n",
       "3   4            Waiting to Exhale (1995)                  Comedy|Drama\n",
       "4   5  Father of the Bride Part II (1995)                        Comedy"
      ]
     },
     "execution_count": 2,
     "metadata": {},
     "output_type": "execute_result"
    }
   ],
   "source": [
    "movies = pd.read_csv('../Datasets/Movies/ml-1m/movies.dat', sep='::', header=None, engine='python', encoding='latin-1')\n",
    "movies.columns = [\"Id\", \"Title\", \"Category\"]\n",
    "movies.head()"
   ]
  },
  {
   "cell_type": "code",
   "execution_count": 3,
   "metadata": {},
   "outputs": [
    {
     "data": {
      "text/html": [
       "<div>\n",
       "<style scoped>\n",
       "    .dataframe tbody tr th:only-of-type {\n",
       "        vertical-align: middle;\n",
       "    }\n",
       "\n",
       "    .dataframe tbody tr th {\n",
       "        vertical-align: top;\n",
       "    }\n",
       "\n",
       "    .dataframe thead th {\n",
       "        text-align: right;\n",
       "    }\n",
       "</style>\n",
       "<table border=\"1\" class=\"dataframe\">\n",
       "  <thead>\n",
       "    <tr style=\"text-align: right;\">\n",
       "      <th></th>\n",
       "      <th>Id</th>\n",
       "      <th>Gender</th>\n",
       "      <th>Age</th>\n",
       "      <th>Job</th>\n",
       "      <th>Code</th>\n",
       "    </tr>\n",
       "  </thead>\n",
       "  <tbody>\n",
       "    <tr>\n",
       "      <th>0</th>\n",
       "      <td>1</td>\n",
       "      <td>F</td>\n",
       "      <td>1</td>\n",
       "      <td>10</td>\n",
       "      <td>48067</td>\n",
       "    </tr>\n",
       "    <tr>\n",
       "      <th>1</th>\n",
       "      <td>2</td>\n",
       "      <td>M</td>\n",
       "      <td>56</td>\n",
       "      <td>16</td>\n",
       "      <td>70072</td>\n",
       "    </tr>\n",
       "    <tr>\n",
       "      <th>2</th>\n",
       "      <td>3</td>\n",
       "      <td>M</td>\n",
       "      <td>25</td>\n",
       "      <td>15</td>\n",
       "      <td>55117</td>\n",
       "    </tr>\n",
       "    <tr>\n",
       "      <th>3</th>\n",
       "      <td>4</td>\n",
       "      <td>M</td>\n",
       "      <td>45</td>\n",
       "      <td>7</td>\n",
       "      <td>02460</td>\n",
       "    </tr>\n",
       "    <tr>\n",
       "      <th>4</th>\n",
       "      <td>5</td>\n",
       "      <td>M</td>\n",
       "      <td>25</td>\n",
       "      <td>20</td>\n",
       "      <td>55455</td>\n",
       "    </tr>\n",
       "  </tbody>\n",
       "</table>\n",
       "</div>"
      ],
      "text/plain": [
       "   Id Gender  Age  Job   Code\n",
       "0   1      F    1   10  48067\n",
       "1   2      M   56   16  70072\n",
       "2   3      M   25   15  55117\n",
       "3   4      M   45    7  02460\n",
       "4   5      M   25   20  55455"
      ]
     },
     "execution_count": 3,
     "metadata": {},
     "output_type": "execute_result"
    }
   ],
   "source": [
    "users = pd.read_csv('../Datasets/Movies/ml-1m/users.dat', sep='::', header=None, engine='python', encoding='latin-1')\n",
    "users.columns = [\"Id\", \"Gender\", \"Age\", \"Job\", \"Code\"]\n",
    "users.head()"
   ]
  },
  {
   "cell_type": "code",
   "execution_count": 4,
   "metadata": {},
   "outputs": [
    {
     "data": {
      "text/html": [
       "<div>\n",
       "<style scoped>\n",
       "    .dataframe tbody tr th:only-of-type {\n",
       "        vertical-align: middle;\n",
       "    }\n",
       "\n",
       "    .dataframe tbody tr th {\n",
       "        vertical-align: top;\n",
       "    }\n",
       "\n",
       "    .dataframe thead th {\n",
       "        text-align: right;\n",
       "    }\n",
       "</style>\n",
       "<table border=\"1\" class=\"dataframe\">\n",
       "  <thead>\n",
       "    <tr style=\"text-align: right;\">\n",
       "      <th></th>\n",
       "      <th>UserId</th>\n",
       "      <th>MovieId</th>\n",
       "      <th>Rating</th>\n",
       "      <th>DateTime</th>\n",
       "    </tr>\n",
       "  </thead>\n",
       "  <tbody>\n",
       "    <tr>\n",
       "      <th>0</th>\n",
       "      <td>1</td>\n",
       "      <td>1193</td>\n",
       "      <td>5</td>\n",
       "      <td>978300760</td>\n",
       "    </tr>\n",
       "    <tr>\n",
       "      <th>1</th>\n",
       "      <td>1</td>\n",
       "      <td>661</td>\n",
       "      <td>3</td>\n",
       "      <td>978302109</td>\n",
       "    </tr>\n",
       "    <tr>\n",
       "      <th>2</th>\n",
       "      <td>1</td>\n",
       "      <td>914</td>\n",
       "      <td>3</td>\n",
       "      <td>978301968</td>\n",
       "    </tr>\n",
       "    <tr>\n",
       "      <th>3</th>\n",
       "      <td>1</td>\n",
       "      <td>3408</td>\n",
       "      <td>4</td>\n",
       "      <td>978300275</td>\n",
       "    </tr>\n",
       "    <tr>\n",
       "      <th>4</th>\n",
       "      <td>1</td>\n",
       "      <td>2355</td>\n",
       "      <td>5</td>\n",
       "      <td>978824291</td>\n",
       "    </tr>\n",
       "  </tbody>\n",
       "</table>\n",
       "</div>"
      ],
      "text/plain": [
       "   UserId  MovieId  Rating   DateTime\n",
       "0       1     1193       5  978300760\n",
       "1       1      661       3  978302109\n",
       "2       1      914       3  978301968\n",
       "3       1     3408       4  978300275\n",
       "4       1     2355       5  978824291"
      ]
     },
     "execution_count": 4,
     "metadata": {},
     "output_type": "execute_result"
    }
   ],
   "source": [
    "ratings = pd.read_csv('../Datasets/Movies/ml-1m/ratings.dat', sep='::', header=None, engine='python', encoding='latin-1')\n",
    "ratings.columns = [\"UserId\", \"MovieId\", \"Rating\", \"DateTime\"]\n",
    "ratings.head()"
   ]
  },
  {
   "cell_type": "markdown",
   "metadata": {},
   "source": [
    "# Data Preprocessing"
   ]
  },
  {
   "cell_type": "markdown",
   "metadata": {},
   "source": [
    "## Prepare Training and Test Set"
   ]
  },
  {
   "cell_type": "code",
   "execution_count": 5,
   "metadata": {},
   "outputs": [
    {
     "data": {
      "text/html": [
       "<div>\n",
       "<style scoped>\n",
       "    .dataframe tbody tr th:only-of-type {\n",
       "        vertical-align: middle;\n",
       "    }\n",
       "\n",
       "    .dataframe tbody tr th {\n",
       "        vertical-align: top;\n",
       "    }\n",
       "\n",
       "    .dataframe thead th {\n",
       "        text-align: right;\n",
       "    }\n",
       "</style>\n",
       "<table border=\"1\" class=\"dataframe\">\n",
       "  <thead>\n",
       "    <tr style=\"text-align: right;\">\n",
       "      <th></th>\n",
       "      <th>UserId</th>\n",
       "      <th>MovieId</th>\n",
       "      <th>Rating</th>\n",
       "      <th>TimeStamp</th>\n",
       "    </tr>\n",
       "  </thead>\n",
       "  <tbody>\n",
       "    <tr>\n",
       "      <th>0</th>\n",
       "      <td>1</td>\n",
       "      <td>2</td>\n",
       "      <td>3</td>\n",
       "      <td>876893171</td>\n",
       "    </tr>\n",
       "    <tr>\n",
       "      <th>1</th>\n",
       "      <td>1</td>\n",
       "      <td>3</td>\n",
       "      <td>4</td>\n",
       "      <td>878542960</td>\n",
       "    </tr>\n",
       "    <tr>\n",
       "      <th>2</th>\n",
       "      <td>1</td>\n",
       "      <td>4</td>\n",
       "      <td>3</td>\n",
       "      <td>876893119</td>\n",
       "    </tr>\n",
       "    <tr>\n",
       "      <th>3</th>\n",
       "      <td>1</td>\n",
       "      <td>5</td>\n",
       "      <td>3</td>\n",
       "      <td>889751712</td>\n",
       "    </tr>\n",
       "    <tr>\n",
       "      <th>4</th>\n",
       "      <td>1</td>\n",
       "      <td>7</td>\n",
       "      <td>4</td>\n",
       "      <td>875071561</td>\n",
       "    </tr>\n",
       "  </tbody>\n",
       "</table>\n",
       "</div>"
      ],
      "text/plain": [
       "   UserId  MovieId  Rating  TimeStamp\n",
       "0       1        2       3  876893171\n",
       "1       1        3       4  878542960\n",
       "2       1        4       3  876893119\n",
       "3       1        5       3  889751712\n",
       "4       1        7       4  875071561"
      ]
     },
     "execution_count": 5,
     "metadata": {},
     "output_type": "execute_result"
    }
   ],
   "source": [
    "training_set_df = pd.read_csv('../Datasets/Movies/ml-100k/u1.base', delimiter='\\t')\n",
    "training_set_df.columns = [\"UserId\", \"MovieId\", \"Rating\", \"TimeStamp\"]\n",
    "training_set_df.head()"
   ]
  },
  {
   "cell_type": "code",
   "execution_count": 6,
   "metadata": {},
   "outputs": [],
   "source": [
    "training_set = np.array(training_set_df, dtype='int')"
   ]
  },
  {
   "cell_type": "code",
   "execution_count": 7,
   "metadata": {},
   "outputs": [
    {
     "data": {
      "text/html": [
       "<div>\n",
       "<style scoped>\n",
       "    .dataframe tbody tr th:only-of-type {\n",
       "        vertical-align: middle;\n",
       "    }\n",
       "\n",
       "    .dataframe tbody tr th {\n",
       "        vertical-align: top;\n",
       "    }\n",
       "\n",
       "    .dataframe thead th {\n",
       "        text-align: right;\n",
       "    }\n",
       "</style>\n",
       "<table border=\"1\" class=\"dataframe\">\n",
       "  <thead>\n",
       "    <tr style=\"text-align: right;\">\n",
       "      <th></th>\n",
       "      <th>UserId</th>\n",
       "      <th>MovieId</th>\n",
       "      <th>Rating</th>\n",
       "      <th>TimeStamp</th>\n",
       "    </tr>\n",
       "  </thead>\n",
       "  <tbody>\n",
       "    <tr>\n",
       "      <th>0</th>\n",
       "      <td>1</td>\n",
       "      <td>10</td>\n",
       "      <td>3</td>\n",
       "      <td>875693118</td>\n",
       "    </tr>\n",
       "    <tr>\n",
       "      <th>1</th>\n",
       "      <td>1</td>\n",
       "      <td>12</td>\n",
       "      <td>5</td>\n",
       "      <td>878542960</td>\n",
       "    </tr>\n",
       "    <tr>\n",
       "      <th>2</th>\n",
       "      <td>1</td>\n",
       "      <td>14</td>\n",
       "      <td>5</td>\n",
       "      <td>874965706</td>\n",
       "    </tr>\n",
       "    <tr>\n",
       "      <th>3</th>\n",
       "      <td>1</td>\n",
       "      <td>17</td>\n",
       "      <td>3</td>\n",
       "      <td>875073198</td>\n",
       "    </tr>\n",
       "    <tr>\n",
       "      <th>4</th>\n",
       "      <td>1</td>\n",
       "      <td>20</td>\n",
       "      <td>4</td>\n",
       "      <td>887431883</td>\n",
       "    </tr>\n",
       "  </tbody>\n",
       "</table>\n",
       "</div>"
      ],
      "text/plain": [
       "   UserId  MovieId  Rating  TimeStamp\n",
       "0       1       10       3  875693118\n",
       "1       1       12       5  878542960\n",
       "2       1       14       5  874965706\n",
       "3       1       17       3  875073198\n",
       "4       1       20       4  887431883"
      ]
     },
     "execution_count": 7,
     "metadata": {},
     "output_type": "execute_result"
    }
   ],
   "source": [
    "test_set_df = pd.read_csv('../Datasets/Movies/ml-100k/u1.test', delimiter='\\t')\n",
    "test_set_df.columns = [\"UserId\", \"MovieId\", \"Rating\", \"TimeStamp\"]\n",
    "test_set_df.head()"
   ]
  },
  {
   "cell_type": "code",
   "execution_count": 8,
   "metadata": {},
   "outputs": [],
   "source": [
    "test_set = np.array(test_set_df, dtype='int')"
   ]
  },
  {
   "cell_type": "markdown",
   "metadata": {},
   "source": [
    "## Get total number of Users and Movies"
   ]
  },
  {
   "cell_type": "code",
   "execution_count": 9,
   "metadata": {},
   "outputs": [
    {
     "name": "stdout",
     "output_type": "stream",
     "text": [
      "total users: 943 ,total movies: 1682\n"
     ]
    }
   ],
   "source": [
    "n_total_users = max(max(training_set_df[\"UserId\"].values), max(test_set_df[\"UserId\"].values))\n",
    "n_total_movies = max(max(training_set_df[\"MovieId\"].values), max(test_set_df[\"MovieId\"].values))\n",
    "print(\"total users:\", n_total_users, \",total movies:\", n_total_movies) "
   ]
  },
  {
   "cell_type": "markdown",
   "metadata": {},
   "source": [
    "## Convert Data into Matrix with users in rows and movies in columns"
   ]
  },
  {
   "cell_type": "code",
   "execution_count": 10,
   "metadata": {},
   "outputs": [],
   "source": [
    "def convert_to_matrix(data, total_users, total_movies):\n",
    "    ratings_data = np.zeros(shape=(total_users, total_movies))\n",
    "    for user_id, movie_id, rating, timestamp in data:\n",
    "        ratings_data[user_id-1][movie_id-1] = rating\n",
    "    return ratings_data"
   ]
  },
  {
   "cell_type": "code",
   "execution_count": 11,
   "metadata": {},
   "outputs": [],
   "source": [
    "training_set = convert_to_matrix(training_set, n_total_users, n_total_movies)\n",
    "test_set = convert_to_matrix(test_set, n_total_users, n_total_movies)"
   ]
  },
  {
   "cell_type": "markdown",
   "metadata": {},
   "source": [
    "## Convert Data into Torch Tensors"
   ]
  },
  {
   "cell_type": "code",
   "execution_count": 12,
   "metadata": {},
   "outputs": [],
   "source": [
    "training_set = torch.FloatTensor(training_set)\n",
    "test_set = torch.FloatTensor(test_set)"
   ]
  },
  {
   "cell_type": "markdown",
   "metadata": {},
   "source": [
    "## Convert Into Binary Ratings (Like/Dislike)"
   ]
  },
  {
   "cell_type": "code",
   "execution_count": 13,
   "metadata": {},
   "outputs": [],
   "source": [
    "# convert non existant ratings to -1 (no rating for specific movie)\n",
    "training_set[training_set<=0] = -1\n",
    "# convert to not liked if rating is one or two\n",
    "training_set[training_set==1] = 0\n",
    "training_set[training_set==2] = 0\n",
    "# convert movies with rating above or equal to 3 to liked\n",
    "training_set[training_set>=3] = 1\n",
    "\n",
    "test_set[test_set<=0] = -1\n",
    "test_set[test_set==1] = 0\n",
    "test_set[test_set==2] = 0\n",
    "test_set[test_set>=3] = 1"
   ]
  },
  {
   "cell_type": "markdown",
   "metadata": {},
   "source": [
    "# Build Restricted Boltzmann Machine"
   ]
  },
  {
   "cell_type": "code",
   "execution_count": 14,
   "metadata": {},
   "outputs": [],
   "source": [
    "class RBM:\n",
    "    def __init__(self, n_visible_nodes, n_hidden_nodes):\n",
    "        self.weights = torch.randn(n_hidden_nodes, n_visible_nodes) # initialize weights with normal distribution\n",
    "        self.bias_hidden = torch.randn(1, n_hidden_nodes)\n",
    "        self.bias_visible = torch.randn(1, n_visible_nodes)\n",
    "    \n",
    "    def train(self, input_vector, visible_nodes_k_iters, hidden_probs_first_iter, hidden_probs_k_iters):\n",
    "        \"\"\"\n",
    "        Train RBM Using Contrastive Divergence Technique\n",
    "        \"\"\"\n",
    "        self.weights += (torch.mm(input_vector.t(), hidden_probs_first_iter) - torch.mm(visible_nodes_k_iters.t(), hidden_probs_k_iters)).t()\n",
    "        self.bias_visible += torch.sum((input_vector - visible_nodes_k_iters), 0)\n",
    "        self.bias_hidden +=  torch.sum((hidden_probs_first_iter - hidden_probs_k_iters), 0)\n",
    "    \n",
    "    def run_hidden(self, visible_nodes):\n",
    "        \"\"\"\n",
    "        compute probability of hidden nodes given visible nodes\n",
    "        \"\"\"\n",
    "        hidden_states = torch.mm(visible_nodes, self.weights.t())\n",
    "        hidden_activations = hidden_states + self.bias_hidden.expand_as(hidden_states)\n",
    "        hidden_probabilities = torch.sigmoid(hidden_activations)\n",
    "        return hidden_probabilities, torch.bernoulli(hidden_probabilities)\n",
    "    \n",
    "    def run_visible(self, hidden_nodes):\n",
    "        \"\"\"\n",
    "        compute probability of visible nodes given hidden nodes\n",
    "        \"\"\"\n",
    "        visible_states = torch.mm(hidden_nodes, self.weights)\n",
    "        visible_activations = visible_states + self.bias_visible.expand_as(visible_states)\n",
    "        visible_probabilities = torch.sigmoid(visible_activations)\n",
    "        return visible_probabilities, torch.bernoulli(visible_probabilities)"
   ]
  },
  {
   "cell_type": "markdown",
   "metadata": {},
   "source": [
    "# Train RBM"
   ]
  },
  {
   "cell_type": "code",
   "execution_count": 15,
   "metadata": {},
   "outputs": [],
   "source": [
    "rbm = RBM(n_total_movies, 100)"
   ]
  },
  {
   "cell_type": "code",
   "execution_count": 16,
   "metadata": {},
   "outputs": [
    {
     "name": "stdout",
     "output_type": "stream",
     "text": [
      "Epoch: 1  loss: tensor(0.3455)\n",
      "Epoch: 2  loss: tensor(0.2342)\n",
      "Epoch: 3  loss: tensor(0.2499)\n",
      "Epoch: 4  loss: tensor(0.2483)\n",
      "Epoch: 5  loss: tensor(0.2467)\n",
      "Epoch: 6  loss: tensor(0.2507)\n",
      "Epoch: 7  loss: tensor(0.2479)\n",
      "Epoch: 8  loss: tensor(0.2478)\n",
      "Epoch: 9  loss: tensor(0.2507)\n",
      "Epoch: 10  loss: tensor(0.2459)\n"
     ]
    }
   ],
   "source": [
    "nb_epochs = 10\n",
    "batch_size = 100\n",
    "for epoch in range(1, nb_epochs+1):\n",
    "    train_loss = 0\n",
    "    counter = 0.0\n",
    "    for user_id in range(0, n_total_users-batch_size, batch_size):\n",
    "        visible_states_k = training_set[user_id : user_id+batch_size]\n",
    "        input_states = training_set[user_id : user_id+batch_size]\n",
    "        initial_hidden_probabilities, _ = rbm.run_hidden(input_states)\n",
    "        for k in range(10):\n",
    "            _, hidden_states_k = rbm.run_hidden(visible_states_k)\n",
    "            _, visible_states_k = rbm.run_visible(hidden_states_k)\n",
    "            # make sure unrated movies keep their -1 (not rated) state\n",
    "            visible_states_k[input_states<0] = input_states[input_states<0]\n",
    "        hidden_probabilities_k_iters, _ = rbm.run_hidden(visible_states_k)\n",
    "        rbm.train(input_states, visible_states_k, initial_hidden_probabilities, hidden_probabilities_k_iters)\n",
    "        train_loss += torch.mean(torch.abs(input_states[input_states>=0] - visible_states_k[input_states>=0]))\n",
    "        counter+=1.0\n",
    "    print(\"Epoch:\", epoch, \" loss:\", train_loss/counter)"
   ]
  },
  {
   "cell_type": "markdown",
   "metadata": {},
   "source": [
    "# Test RBM"
   ]
  },
  {
   "cell_type": "code",
   "execution_count": 17,
   "metadata": {},
   "outputs": [
    {
     "name": "stdout",
     "output_type": "stream",
     "text": [
      "test loss:  tensor(0.2345)\n"
     ]
    }
   ],
   "source": [
    "test_loss = 0\n",
    "counter = 0.0\n",
    "for user_id in range(n_total_users):\n",
    "    visible_states = training_set[user_id : user_id+1]\n",
    "    input_state = test_set[user_id : user_id+1]\n",
    "    initial_hidden_probabilities, _ = rbm.run_hidden(input_state)\n",
    "    if (len(input_state[input_state>=0]) > 0):\n",
    "        _, hidden_states = rbm.run_hidden(visible_states)\n",
    "        _, visible_states = rbm.run_visible(hidden_states)\n",
    "        test_loss += torch.mean(torch.abs(input_state[input_state>=0] - visible_states[input_state>=0]))\n",
    "        counter+=1.0\n",
    "print(\"test loss: \", test_loss/counter)"
   ]
  }
 ],
 "metadata": {
  "kernelspec": {
   "display_name": "Python 3",
   "language": "python",
   "name": "python3"
  },
  "language_info": {
   "codemirror_mode": {
    "name": "ipython",
    "version": 3
   },
   "file_extension": ".py",
   "mimetype": "text/x-python",
   "name": "python",
   "nbconvert_exporter": "python",
   "pygments_lexer": "ipython3",
   "version": "3.6.10"
  }
 },
 "nbformat": 4,
 "nbformat_minor": 4
}
