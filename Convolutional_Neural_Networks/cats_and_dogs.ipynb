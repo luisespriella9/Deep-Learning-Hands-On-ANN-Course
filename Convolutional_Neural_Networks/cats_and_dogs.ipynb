{
  "nbformat": 4,
  "nbformat_minor": 0,
  "metadata": {
    "kernelspec": {
      "display_name": "Python 3",
      "language": "python",
      "name": "python3"
    },
    "language_info": {
      "codemirror_mode": {
        "name": "ipython",
        "version": 3
      },
      "file_extension": ".py",
      "mimetype": "text/x-python",
      "name": "python",
      "nbconvert_exporter": "python",
      "pygments_lexer": "ipython3",
      "version": "3.7.7"
    },
    "colab": {
      "name": "cats_and_dogs.ipynb",
      "provenance": [],
      "collapsed_sections": [],
      "include_colab_link": true
    },
    "accelerator": "TPU"
  },
  "cells": [
    {
      "cell_type": "markdown",
      "metadata": {
        "id": "view-in-github",
        "colab_type": "text"
      },
      "source": [
        "<a href=\"https://colab.research.google.com/github/luisespriella9/Deep-Learning-Hands-On-ANN-Course/blob/develop/Convolutional_Neural_Networks/cats_and_dogs.ipynb\" target=\"_parent\"><img src=\"https://colab.research.google.com/assets/colab-badge.svg\" alt=\"Open In Colab\"/></a>"
      ]
    },
    {
      "cell_type": "markdown",
      "metadata": {
        "id": "9awOwi9m1oZM",
        "colab_type": "text"
      },
      "source": [
        "## Import Libraries"
      ]
    },
    {
      "cell_type": "code",
      "metadata": {
        "id": "joaFbFaC1q20",
        "colab_type": "code",
        "colab": {}
      },
      "source": [
        "import tensorflow as tf\n",
        "from keras.preprocessing import image\n",
        "from keras.preprocessing.image import ImageDataGenerator\n",
        "import numpy as np"
      ],
      "execution_count": 1,
      "outputs": []
    },
    {
      "cell_type": "markdown",
      "metadata": {
        "id": "r87044Io2V-K",
        "colab_type": "text"
      },
      "source": [
        "## Mount Drive"
      ]
    },
    {
      "cell_type": "code",
      "metadata": {
        "id": "kwAPVCT32XnU",
        "colab_type": "code",
        "colab": {
          "base_uri": "https://localhost:8080/",
          "height": 35
        },
        "outputId": "4036927d-a9f2-457b-e880-d7aa8ecc685b"
      },
      "source": [
        "from google.colab import drive\n",
        "drive.mount('/content/drive')"
      ],
      "execution_count": 2,
      "outputs": [
        {
          "output_type": "stream",
          "text": [
            "Drive already mounted at /content/drive; to attempt to forcibly remount, call drive.mount(\"/content/drive\", force_remount=True).\n"
          ],
          "name": "stdout"
        }
      ]
    },
    {
      "cell_type": "markdown",
      "metadata": {
        "id": "opr22Ma-1Owu",
        "colab_type": "text"
      },
      "source": [
        "# Data Preprocessing"
      ]
    },
    {
      "cell_type": "markdown",
      "metadata": {
        "id": "dsc8ANVR3RVE",
        "colab_type": "text"
      },
      "source": [
        "Training Set"
      ]
    },
    {
      "cell_type": "code",
      "metadata": {
        "id": "KH94ZNfr2a33",
        "colab_type": "code",
        "colab": {
          "base_uri": "https://localhost:8080/",
          "height": 35
        },
        "outputId": "4c5b6d7b-6fdb-4700-b58c-e7b3dfc2ff30"
      },
      "source": [
        "train_datagen = ImageDataGenerator(\n",
        "    rescale=1./255,\n",
        "    shear_range=0.2,\n",
        "    zoom_range=0.2,\n",
        "    horizontal_flip=True\n",
        ")\n",
        "\n",
        "training_set = train_datagen.flow_from_directory(\n",
        "    'drive/My Drive/cats_and_dogs_dataset/training_set',\n",
        "    target_size=(64, 64),\n",
        "    batch_size=32,\n",
        "    class_mode='binary'\n",
        ")"
      ],
      "execution_count": 3,
      "outputs": [
        {
          "output_type": "stream",
          "text": [
            "Found 8000 images belonging to 2 classes.\n"
          ],
          "name": "stdout"
        }
      ]
    },
    {
      "cell_type": "markdown",
      "metadata": {
        "id": "S2B3ZEHx3S4F",
        "colab_type": "text"
      },
      "source": [
        "Test Set"
      ]
    },
    {
      "cell_type": "code",
      "metadata": {
        "id": "hvd1OTA33T20",
        "colab_type": "code",
        "colab": {
          "base_uri": "https://localhost:8080/",
          "height": 35
        },
        "outputId": "776872de-62e3-4e4e-f69f-2c586cac592f"
      },
      "source": [
        "test_datagen = ImageDataGenerator(rescale=1./255)\n",
        "test_set = test_datagen.flow_from_directory(\n",
        "    'drive/My Drive/cats_and_dogs_dataset/test_set',\n",
        "    target_size=(64, 64),\n",
        "    batch_size=32,\n",
        "    class_mode='binary'\n",
        ")"
      ],
      "execution_count": 4,
      "outputs": [
        {
          "output_type": "stream",
          "text": [
            "Found 2000 images belonging to 2 classes.\n"
          ],
          "name": "stdout"
        }
      ]
    },
    {
      "cell_type": "markdown",
      "metadata": {
        "id": "m8pJRc8t1SIL",
        "colab_type": "text"
      },
      "source": [
        "# Building the CNN"
      ]
    },
    {
      "cell_type": "code",
      "metadata": {
        "id": "mbXJhRAe4jYc",
        "colab_type": "code",
        "colab": {}
      },
      "source": [
        "cnn = tf.keras.models.Sequential()"
      ],
      "execution_count": 5,
      "outputs": []
    },
    {
      "cell_type": "markdown",
      "metadata": {
        "id": "iutqx36r4GU7",
        "colab_type": "text"
      },
      "source": [
        "## Convolution"
      ]
    },
    {
      "cell_type": "code",
      "metadata": {
        "id": "_iv35Hg84fTA",
        "colab_type": "code",
        "colab": {}
      },
      "source": [
        "cnn.add(tf.keras.layers.Conv2D(filters=32, kernel_size=3, activation='relu', input_shape=[64, 64, 3]))"
      ],
      "execution_count": 6,
      "outputs": []
    },
    {
      "cell_type": "markdown",
      "metadata": {
        "id": "LzlXVJFv4JS3",
        "colab_type": "text"
      },
      "source": [
        "## Pooling"
      ]
    },
    {
      "cell_type": "code",
      "metadata": {
        "id": "6qKtcpd864eT",
        "colab_type": "code",
        "colab": {}
      },
      "source": [
        "cnn.add(tf.keras.layers.MaxPool2D(pool_size=(2, 2), strides=(2, 2)))"
      ],
      "execution_count": 7,
      "outputs": []
    },
    {
      "cell_type": "markdown",
      "metadata": {
        "id": "TiYpzxHf7l_x",
        "colab_type": "text"
      },
      "source": [
        "## Second Convolution"
      ]
    },
    {
      "cell_type": "code",
      "metadata": {
        "id": "sIdcL4QR7oKE",
        "colab_type": "code",
        "colab": {}
      },
      "source": [
        "cnn.add(tf.keras.layers.Conv2D(filters=32, kernel_size=3, activation='relu'))\n",
        "cnn.add(tf.keras.layers.MaxPool2D(pool_size=(2, 2), strides=(2, 2)))"
      ],
      "execution_count": 8,
      "outputs": []
    },
    {
      "cell_type": "markdown",
      "metadata": {
        "id": "c29uIRIl4LcX",
        "colab_type": "text"
      },
      "source": [
        "## Flattening"
      ]
    },
    {
      "cell_type": "code",
      "metadata": {
        "id": "Pz3etikR72j6",
        "colab_type": "code",
        "colab": {}
      },
      "source": [
        "cnn.add(tf.keras.layers.Flatten())"
      ],
      "execution_count": 9,
      "outputs": []
    },
    {
      "cell_type": "markdown",
      "metadata": {
        "id": "0nG4yc9S4RNj",
        "colab_type": "text"
      },
      "source": [
        "## Full Connection"
      ]
    },
    {
      "cell_type": "code",
      "metadata": {
        "id": "91H1odO18BkN",
        "colab_type": "code",
        "colab": {}
      },
      "source": [
        "cnn.add(tf.keras.layers.Dense(units=128, activation='relu'))"
      ],
      "execution_count": 10,
      "outputs": []
    },
    {
      "cell_type": "markdown",
      "metadata": {
        "id": "vu_iKm0e4NcD",
        "colab_type": "text"
      },
      "source": [
        "## Output Layer"
      ]
    },
    {
      "cell_type": "code",
      "metadata": {
        "id": "8GDJYZcT8KOg",
        "colab_type": "code",
        "colab": {}
      },
      "source": [
        "cnn.add(tf.keras.layers.Dense(units=1, activation='sigmoid'))"
      ],
      "execution_count": 11,
      "outputs": []
    },
    {
      "cell_type": "markdown",
      "metadata": {
        "id": "-oxpx9Py4UWO",
        "colab_type": "text"
      },
      "source": [
        "# Training CNN"
      ]
    },
    {
      "cell_type": "markdown",
      "metadata": {
        "id": "286gznnU4Xin",
        "colab_type": "text"
      },
      "source": [
        "## Compiling CNN"
      ]
    },
    {
      "cell_type": "code",
      "metadata": {
        "id": "Dx9x40NF95Ac",
        "colab_type": "code",
        "colab": {}
      },
      "source": [
        "cnn.compile(optimizer='adam', loss='binary_crossentropy', metrics=['accuracy'])"
      ],
      "execution_count": 12,
      "outputs": []
    },
    {
      "cell_type": "markdown",
      "metadata": {
        "id": "Sx-hBO3B-AYb",
        "colab_type": "text"
      },
      "source": [
        "\n",
        "# Train CNN"
      ]
    },
    {
      "cell_type": "code",
      "metadata": {
        "id": "P6T9mcmE-Cv6",
        "colab_type": "code",
        "colab": {
          "base_uri": "https://localhost:8080/",
          "height": 945
        },
        "outputId": "eb558ad7-aa4a-418f-9e7e-ffeb62a75872"
      },
      "source": [
        "cnn.fit(x=training_set, validation_data=test_set, epochs=25)"
      ],
      "execution_count": 13,
      "outputs": [
        {
          "output_type": "stream",
          "text": [
            "Epoch 1/25\n",
            "250/250 [==============================] - 1493s 6s/step - loss: 0.6647 - accuracy: 0.5932 - val_loss: 0.6085 - val_accuracy: 0.6720\n",
            "Epoch 2/25\n",
            "250/250 [==============================] - 80s 318ms/step - loss: 0.6033 - accuracy: 0.6752 - val_loss: 0.6081 - val_accuracy: 0.6710\n",
            "Epoch 3/25\n",
            "250/250 [==============================] - 80s 319ms/step - loss: 0.5634 - accuracy: 0.7057 - val_loss: 0.5827 - val_accuracy: 0.6825\n",
            "Epoch 4/25\n",
            "250/250 [==============================] - 80s 320ms/step - loss: 0.5380 - accuracy: 0.7283 - val_loss: 0.5116 - val_accuracy: 0.7395\n",
            "Epoch 5/25\n",
            "250/250 [==============================] - 80s 319ms/step - loss: 0.5255 - accuracy: 0.7369 - val_loss: 0.5170 - val_accuracy: 0.7455\n",
            "Epoch 6/25\n",
            "250/250 [==============================] - 79s 314ms/step - loss: 0.4956 - accuracy: 0.7561 - val_loss: 0.4842 - val_accuracy: 0.7660\n",
            "Epoch 7/25\n",
            "250/250 [==============================] - 79s 317ms/step - loss: 0.4826 - accuracy: 0.7613 - val_loss: 0.4879 - val_accuracy: 0.7700\n",
            "Epoch 8/25\n",
            "250/250 [==============================] - 81s 323ms/step - loss: 0.4705 - accuracy: 0.7710 - val_loss: 0.4754 - val_accuracy: 0.7710\n",
            "Epoch 9/25\n",
            "250/250 [==============================] - 79s 316ms/step - loss: 0.4510 - accuracy: 0.7856 - val_loss: 0.4596 - val_accuracy: 0.7785\n",
            "Epoch 10/25\n",
            "250/250 [==============================] - 80s 320ms/step - loss: 0.4376 - accuracy: 0.7941 - val_loss: 0.4755 - val_accuracy: 0.7935\n",
            "Epoch 11/25\n",
            "250/250 [==============================] - 86s 343ms/step - loss: 0.4362 - accuracy: 0.7914 - val_loss: 0.4584 - val_accuracy: 0.8015\n",
            "Epoch 12/25\n",
            "250/250 [==============================] - 81s 326ms/step - loss: 0.4263 - accuracy: 0.8025 - val_loss: 0.5045 - val_accuracy: 0.7735\n",
            "Epoch 13/25\n",
            "250/250 [==============================] - 80s 322ms/step - loss: 0.4106 - accuracy: 0.8083 - val_loss: 0.4803 - val_accuracy: 0.7915\n",
            "Epoch 14/25\n",
            "250/250 [==============================] - 81s 323ms/step - loss: 0.3973 - accuracy: 0.8164 - val_loss: 0.4911 - val_accuracy: 0.7835\n",
            "Epoch 15/25\n",
            "250/250 [==============================] - 79s 318ms/step - loss: 0.3865 - accuracy: 0.8289 - val_loss: 0.4658 - val_accuracy: 0.7975\n",
            "Epoch 16/25\n",
            "250/250 [==============================] - 80s 318ms/step - loss: 0.3878 - accuracy: 0.8240 - val_loss: 0.4377 - val_accuracy: 0.8130\n",
            "Epoch 17/25\n",
            "250/250 [==============================] - 82s 327ms/step - loss: 0.3711 - accuracy: 0.8305 - val_loss: 0.4255 - val_accuracy: 0.8255\n",
            "Epoch 18/25\n",
            "250/250 [==============================] - 81s 325ms/step - loss: 0.3712 - accuracy: 0.8339 - val_loss: 0.4860 - val_accuracy: 0.7910\n",
            "Epoch 19/25\n",
            "250/250 [==============================] - 86s 343ms/step - loss: 0.3573 - accuracy: 0.8399 - val_loss: 0.4467 - val_accuracy: 0.8095\n",
            "Epoch 20/25\n",
            "250/250 [==============================] - 83s 332ms/step - loss: 0.3526 - accuracy: 0.8411 - val_loss: 0.4763 - val_accuracy: 0.7910\n",
            "Epoch 21/25\n",
            "250/250 [==============================] - 82s 327ms/step - loss: 0.3402 - accuracy: 0.8489 - val_loss: 0.4509 - val_accuracy: 0.8190\n",
            "Epoch 22/25\n",
            "250/250 [==============================] - 82s 329ms/step - loss: 0.3410 - accuracy: 0.8487 - val_loss: 0.4808 - val_accuracy: 0.7955\n",
            "Epoch 23/25\n",
            "250/250 [==============================] - 84s 335ms/step - loss: 0.3175 - accuracy: 0.8595 - val_loss: 0.4874 - val_accuracy: 0.7950\n",
            "Epoch 24/25\n",
            "250/250 [==============================] - 80s 320ms/step - loss: 0.3275 - accuracy: 0.8579 - val_loss: 0.4568 - val_accuracy: 0.8150\n",
            "Epoch 25/25\n",
            "250/250 [==============================] - 79s 314ms/step - loss: 0.3078 - accuracy: 0.8639 - val_loss: 0.5147 - val_accuracy: 0.7885\n"
          ],
          "name": "stdout"
        },
        {
          "output_type": "execute_result",
          "data": {
            "text/plain": [
              "<tensorflow.python.keras.callbacks.History at 0x7f2cc66f9390>"
            ]
          },
          "metadata": {
            "tags": []
          },
          "execution_count": 13
        }
      ]
    },
    {
      "cell_type": "markdown",
      "metadata": {
        "id": "Ty2PWvPB_sb9",
        "colab_type": "text"
      },
      "source": [
        "# Evaluate Model"
      ]
    },
    {
      "cell_type": "markdown",
      "metadata": {
        "id": "PIVxPww5_uxw",
        "colab_type": "text"
      },
      "source": [
        "## Make a single prediction"
      ]
    },
    {
      "cell_type": "code",
      "metadata": {
        "id": "hWHsmOPL_x0_",
        "colab_type": "code",
        "colab": {}
      },
      "source": [
        "test_image = image.load_img('drive/My Drive/cats_and_dogs_dataset/single_prediction/cat_or_dog_1.jpg', target_size=(64, 64))\n",
        "test_image = image.img_to_array(test_image)\n",
        "# add extra dimension\n",
        "test_image = np.expand_dims(test_image, axis=0)"
      ],
      "execution_count": 14,
      "outputs": []
    },
    {
      "cell_type": "code",
      "metadata": {
        "id": "BFAT-1ieAnmE",
        "colab_type": "code",
        "colab": {
          "base_uri": "https://localhost:8080/",
          "height": 35
        },
        "outputId": "a0e5da95-002d-40c3-a388-2773752a13a6"
      },
      "source": [
        "result = cnn.predict(test_image)\n",
        "if result[0][0]==1:\n",
        "  print(\"dog\")\n",
        "else:\n",
        "  print(\"cat\")"
      ],
      "execution_count": 15,
      "outputs": [
        {
          "output_type": "stream",
          "text": [
            "dog\n"
          ],
          "name": "stdout"
        }
      ]
    }
  ]
}