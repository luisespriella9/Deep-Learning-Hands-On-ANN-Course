{
 "cells": [
  {
   "cell_type": "markdown",
   "metadata": {},
   "source": [
    "# Image Classification Problem - Classify Cat vs Dog"
   ]
  },
  {
   "cell_type": "markdown",
   "metadata": {},
   "source": [
    "## Data Pre-processing"
   ]
  },
  {
   "cell_type": "code",
   "execution_count": 1,
   "metadata": {},
   "outputs": [
    {
     "name": "stderr",
     "output_type": "stream",
     "text": [
      "Using TensorFlow backend.\n"
     ]
    },
    {
     "name": "stdout",
     "output_type": "stream",
     "text": [
      "Found 8000 images belonging to 2 classes.\n",
      "Found 2000 images belonging to 2 classes.\n"
     ]
    }
   ],
   "source": [
    "#code from keras documentation - https://keras.io/preprocessing/image/\n",
    "import os\n",
    "from keras.preprocessing.image import ImageDataGenerator\n",
    "#Image augmentation - rotate, shift, flip, etc.. copies of image to expand size of training set\n",
    "#rescale in a range from zero to 1\n",
    "\n",
    "train_data_generator = ImageDataGenerator(\n",
    "        rescale = 1./255,\n",
    "        shear_range = 0.2,\n",
    "        zoom_range = 0.2,\n",
    "        horizontal_flip = True)\n",
    "\n",
    "test_datagen = ImageDataGenerator(rescale=1./255)\n",
    "\n",
    "train_generator = train_data_generator.flow_from_directory('dataset/training_set',\n",
    "        target_size=(64, 64),\n",
    "        batch_size=32,\n",
    "        class_mode='binary')\n",
    "\n",
    "test_generator = test_datagen.flow_from_directory('dataset/test_set',\n",
    "        target_size=(64, 64),\n",
    "        batch_size=32,\n",
    "        class_mode='binary')"
   ]
  },
  {
   "cell_type": "markdown",
   "metadata": {},
   "source": [
    "## Convolutional Neural Network implementation"
   ]
  },
  {
   "cell_type": "code",
   "execution_count": 2,
   "metadata": {},
   "outputs": [],
   "source": [
    "from keras.models import Sequential\n",
    "from keras.layers import Conv2D, MaxPooling2D, Flatten, Dense\n",
    "\n",
    "#Initializing the Convolutional Neural Network\n",
    "\n",
    "def build_cnn():\n",
    "    #Step 1 - Convolution\n",
    "    classifier = Sequential()\n",
    "\n",
    "    #add feature detector number of rows and columns as kernel size parameter\n",
    "    #image 64 x 64 with 3 color channels\n",
    "    #relu activation function to remove linearity\n",
    "    cnn_input_layer = Conv2D(filters = 32, kernel_size = (3, 3), input_shape = (64, 64, 3), activation = 'relu')\n",
    "    classifier.add(cnn_input_layer)\n",
    "    #Step 2 - Max Pooling\n",
    "\n",
    "    #reduce size of feature maps using max pooling\n",
    "    max_pooling_layer = MaxPooling2D(pool_size = (2, 2))\n",
    "    classifier.add(max_pooling_layer)\n",
    "    \n",
    "    #Create Deep Fully Connected Layers (hidden layers) - 2nd Layer\n",
    "    fcl = Conv2D(filters = 32, kernel_size = (3, 3), activation = 'relu')\n",
    "    classifier.add(fcl)\n",
    "    classifier.add(MaxPooling2D(pool_size = (2, 2)))\n",
    "\n",
    "    #Step 3 - Flattening\n",
    "    flattening_layer = Flatten()\n",
    "    classifier.add(flattening_layer)\n",
    "\n",
    "    #Step 4 - Full Connection\n",
    "    ann_fully_connected_layer = Dense(units = 128, activation = 'relu') #same as ANN hidden layer\n",
    "    classifier.add(ann_fully_connected_layer)\n",
    "\n",
    "    ann_output_layer = Dense(units = 1, activation = 'sigmoid')\n",
    "    classifier.add(ann_output_layer)\n",
    "    return classifier"
   ]
  },
  {
   "cell_type": "markdown",
   "metadata": {},
   "source": [
    "## Fitting CNN"
   ]
  },
  {
   "cell_type": "code",
   "execution_count": 3,
   "metadata": {},
   "outputs": [],
   "source": [
    "classifier = build_cnn()\n",
    "classifier.compile(optimizer = 'adam', loss = 'binary_crossentropy', metrics = ['accuracy'])"
   ]
  },
  {
   "cell_type": "code",
   "execution_count": 4,
   "metadata": {},
   "outputs": [
    {
     "name": "stdout",
     "output_type": "stream",
     "text": [
      "Epoch 1/25\n",
      "8000/8000 [==============================] - 1006s 126ms/step - loss: 0.3419 - accuracy: 0.8394 - val_loss: 0.0523 - val_accuracy: 0.7920\n",
      "Epoch 2/25\n",
      "8000/8000 [==============================] - 751s 94ms/step - loss: 0.0868 - accuracy: 0.9679 - val_loss: 0.7075 - val_accuracy: 0.8085\n",
      "Epoch 3/25\n",
      "8000/8000 [==============================] - 772s 96ms/step - loss: 0.0470 - accuracy: 0.9832 - val_loss: 1.8699 - val_accuracy: 0.7945\n",
      "Epoch 4/25\n",
      "8000/8000 [==============================] - 902s 113ms/step - loss: 0.0351 - accuracy: 0.9881 - val_loss: 1.0068 - val_accuracy: 0.7950\n",
      "Epoch 5/25\n",
      "8000/8000 [==============================] - 1147s 143ms/step - loss: 0.0282 - accuracy: 0.9905 - val_loss: 0.1689 - val_accuracy: 0.8025\n",
      "Epoch 6/25\n",
      "8000/8000 [==============================] - 1103s 138ms/step - loss: 0.0251 - accuracy: 0.9917 - val_loss: 1.8171 - val_accuracy: 0.8030\n",
      "Epoch 7/25\n",
      "8000/8000 [==============================] - 1210s 151ms/step - loss: 0.0213 - accuracy: 0.9929 - val_loss: 4.0108 - val_accuracy: 0.7925\n",
      "Epoch 8/25\n",
      "8000/8000 [==============================] - 986s 123ms/step - loss: 0.0194 - accuracy: 0.9936 - val_loss: 2.6408 - val_accuracy: 0.7920\n",
      "Epoch 9/25\n",
      "8000/8000 [==============================] - 742s 93ms/step - loss: 0.0173 - accuracy: 0.9945 - val_loss: 2.2554 - val_accuracy: 0.7925\n",
      "Epoch 10/25\n",
      "8000/8000 [==============================] - 780s 98ms/step - loss: 0.0153 - accuracy: 0.9949 - val_loss: 2.6855 - val_accuracy: 0.7910\n",
      "Epoch 11/25\n",
      "8000/8000 [==============================] - 792s 99ms/step - loss: 0.0149 - accuracy: 0.9952 - val_loss: 2.1280 - val_accuracy: 0.7950\n",
      "Epoch 12/25\n",
      "8000/8000 [==============================] - 804s 100ms/step - loss: 0.0128 - accuracy: 0.9958 - val_loss: 1.8328 - val_accuracy: 0.7935\n",
      "Epoch 13/25\n",
      "8000/8000 [==============================] - 822s 103ms/step - loss: 0.0125 - accuracy: 0.9960 - val_loss: 2.0048 - val_accuracy: 0.7900\n",
      "Epoch 14/25\n",
      "8000/8000 [==============================] - 842s 105ms/step - loss: 0.0122 - accuracy: 0.9964 - val_loss: 4.5692 - val_accuracy: 0.8015\n",
      "Epoch 15/25\n",
      "8000/8000 [==============================] - 851s 106ms/step - loss: 0.0107 - accuracy: 0.9967 - val_loss: 1.6255 - val_accuracy: 0.7995\n",
      "Epoch 16/25\n",
      "8000/8000 [==============================] - 854s 107ms/step - loss: 0.0111 - accuracy: 0.9967 - val_loss: 0.7305 - val_accuracy: 0.7855\n",
      "Epoch 17/25\n",
      "8000/8000 [==============================] - 855s 107ms/step - loss: 0.0099 - accuracy: 0.9969 - val_loss: 0.5387 - val_accuracy: 0.7890\n",
      "Epoch 18/25\n",
      "8000/8000 [==============================] - 854s 107ms/step - loss: 0.0100 - accuracy: 0.9969 - val_loss: 0.9214 - val_accuracy: 0.7935\n",
      "Epoch 19/25\n",
      "8000/8000 [==============================] - 872s 109ms/step - loss: 0.0084 - accuracy: 0.9975 - val_loss: 3.7095 - val_accuracy: 0.8075\n",
      "Epoch 20/25\n",
      "8000/8000 [==============================] - 863s 108ms/step - loss: 0.0092 - accuracy: 0.9973 - val_loss: 3.0789 - val_accuracy: 0.7970\n",
      "Epoch 21/25\n",
      "8000/8000 [==============================] - 866s 108ms/step - loss: 0.0086 - accuracy: 0.9974 - val_loss: 1.9893 - val_accuracy: 0.7955\n",
      "Epoch 22/25\n",
      "8000/8000 [==============================] - 863s 108ms/step - loss: 0.0080 - accuracy: 0.9977 - val_loss: 0.4701 - val_accuracy: 0.7995\n",
      "Epoch 23/25\n",
      "8000/8000 [==============================] - 863s 108ms/step - loss: 0.0083 - accuracy: 0.9976 - val_loss: 10.6794 - val_accuracy: 0.7960\n",
      "Epoch 24/25\n",
      "8000/8000 [==============================] - 862s 108ms/step - loss: 0.0076 - accuracy: 0.9977 - val_loss: 2.9043 - val_accuracy: 0.8055\n",
      "Epoch 25/25\n",
      "8000/8000 [==============================] - 868s 108ms/step - loss: 0.0072 - accuracy: 0.9979 - val_loss: 5.4924 - val_accuracy: 0.8025\n"
     ]
    },
    {
     "data": {
      "text/plain": [
       "<keras.callbacks.callbacks.History at 0x138c017dc50>"
      ]
     },
     "execution_count": 4,
     "metadata": {},
     "output_type": "execute_result"
    }
   ],
   "source": [
    "classifier.fit_generator(generator = train_generator, steps_per_epoch = 8000, epochs = 25, validation_data = test_generator, workers = 50, verbose=1)"
   ]
  },
  {
   "cell_type": "markdown",
   "metadata": {},
   "source": [
    "## Making new prediction"
   ]
  },
  {
   "cell_type": "code",
   "execution_count": 8,
   "metadata": {},
   "outputs": [
    {
     "data": {
      "text/plain": [
       "array([[1.]], dtype=float32)"
      ]
     },
     "execution_count": 8,
     "metadata": {},
     "output_type": "execute_result"
    }
   ],
   "source": [
    "import numpy as np\n",
    "from keras.preprocessing import image\n",
    "\n",
    "#Load Image\n",
    "dog_or_cat_test1 = image.load_img('dataset/single_prediction/cat_or_dog_1.jpg', target_size=(64, 64))\n",
    "dog_or_cat_test1 = image.img_to_array(dog_or_cat_test1)\n",
    "\n",
    "#add dimension for neural network prediction\n",
    "dog_or_cat_test1 = np.expand_dims(dog_or_cat_test1, axis = 0) #added to beginning of array\n",
    "#make prediction\n",
    "binary_result = classifier.predict(dog_or_cat_test1)\n",
    "binary_result"
   ]
  },
  {
   "cell_type": "code",
   "execution_count": 9,
   "metadata": {},
   "outputs": [
    {
     "data": {
      "text/plain": [
       "{'cats': 0, 'dogs': 1}"
      ]
     },
     "execution_count": 9,
     "metadata": {},
     "output_type": "execute_result"
    }
   ],
   "source": [
    "train_generator.class_indices"
   ]
  }
 ],
 "metadata": {
  "kernelspec": {
   "display_name": "Python 3",
   "language": "python",
   "name": "python3"
  },
  "language_info": {
   "codemirror_mode": {
    "name": "ipython",
    "version": 3
   },
   "file_extension": ".py",
   "mimetype": "text/x-python",
   "name": "python",
   "nbconvert_exporter": "python",
   "pygments_lexer": "ipython3",
   "version": "3.6.10"
  }
 },
 "nbformat": 4,
 "nbformat_minor": 4
}
