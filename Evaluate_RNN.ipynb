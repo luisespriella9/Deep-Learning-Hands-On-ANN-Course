{
  "nbformat": 4,
  "nbformat_minor": 0,
  "metadata": {
    "colab": {
      "name": "Evaluate RNN",
      "provenance": [],
      "collapsed_sections": [],
      "machine_shape": "hm",
      "authorship_tag": "ABX9TyNtIi7ighLjEC2pUgHGHEN2",
      "include_colab_link": true
    },
    "kernelspec": {
      "name": "python3",
      "display_name": "Python 3"
    },
    "accelerator": "TPU"
  },
  "cells": [
    {
      "cell_type": "markdown",
      "metadata": {
        "id": "view-in-github",
        "colab_type": "text"
      },
      "source": [
        "<a href=\"https://colab.research.google.com/github/luisespriella9/AI-DeepLearning-Course/blob/master/Evaluate_RNN.ipynb\" target=\"_parent\"><img src=\"https://colab.research.google.com/assets/colab-badge.svg\" alt=\"Open In Colab\"/></a>"
      ]
    },
    {
      "cell_type": "markdown",
      "metadata": {
        "id": "1jGkREPrqY-p",
        "colab_type": "text"
      },
      "source": [
        "Add AISP Class From File"
      ]
    },
    {
      "cell_type": "code",
      "metadata": {
        "id": "EHTGqovrqWOQ",
        "colab_type": "code",
        "colab": {
          "base_uri": "https://localhost:8080/",
          "height": 89
        },
        "outputId": "0fb39706-4f52-4cb5-cdf4-676efaca06d7"
      },
      "source": [
        "import pandas_datareader.data as web\n",
        "import numpy as np\n",
        "import matplotlib.pyplot as plt\n",
        "import pandas as pd\n",
        "\n",
        "from keras.models import Sequential\n",
        "from keras.layers import Dense, LSTM, Dropout\n",
        "from sklearn.preprocessing import MinMaxScaler\n",
        "\n",
        "class AISP:\n",
        "  def __init__(self, timesteps, lstm_count = 7):\n",
        "    self.train_dataset = None\n",
        "    self.x_train = None\n",
        "    self.timesteps = timesteps\n",
        "    self.n_inputs = None\n",
        "    self.scaler = None\n",
        "    self.lstm_count = lstm_count\n",
        "\n",
        "  def build_train_data(self, company, train_start_date, train_end_date):\n",
        "    # build dataframe\n",
        "    train_dataset = self.build_dataset(company, train_start_date, train_end_date)\n",
        "    self.n_inputs = len(train_dataset.columns)\n",
        "    self.train_dataset = train_dataset\n",
        "\n",
        "    # convert to numpy\n",
        "    training_set = train_dataset.iloc[:, :].values\n",
        "\n",
        "    # scale data\n",
        "    scaler = MinMaxScaler(feature_range = (0, 1))\n",
        "    scaled_training_set = scaler.fit_transform(training_set)\n",
        "    self.scaler = scaler\n",
        "\n",
        "    # build train data\n",
        "    x_train = []\n",
        "    y_train = []\n",
        "    open_index = self.train_dataset.columns.get_loc(\"Open\")\n",
        "    for i in range(self.timesteps, len(scaled_training_set)):\n",
        "        x_train.append(scaled_training_set[i-self.timesteps:i, :])\n",
        "        y_train.append(scaled_training_set[i, open_index:open_index+1])\n",
        "        \n",
        "    x_train, y_train = np.array(x_train), np.array(y_train)\n",
        "\n",
        "    # reshape data\n",
        "    x_train = np.reshape(x_train, (x_train.shape[0], self.timesteps, self.n_inputs))\n",
        "    self.x_train = x_train\n",
        "\n",
        "    return x_train, y_train\n",
        "\n",
        "  def build_prediction_data(self, company, test_start_date, test_end_date):\n",
        "    test_dataset = self.build_dataset(company, test_start_date, test_end_date)\n",
        "\n",
        "    #concatenate with training data\n",
        "    dataset_total = pd.concat((self.train_dataset, test_dataset), axis = 0)\n",
        "    dataset_total = dataset_total.fillna(method='ffill')\n",
        "    dataset_total = dataset_total.fillna(method='bfill')\n",
        "\n",
        "    # minimize data to timesteps size\n",
        "    inputs = dataset_total[len(dataset_total)-len(test_dataset)-self.timesteps:].values\n",
        "    #inputs = inputs.reshape(-1, 1) #set to right format\n",
        "    #scale inputs\n",
        "    inputs = self.scaler.transform(inputs)\n",
        "\n",
        "    # build prediction data\n",
        "    x_prediction = []\n",
        "    for i in range(self.timesteps, self.timesteps+len(test_dataset)):\n",
        "        x_prediction.append(inputs[i-self.timesteps:i, :])\n",
        "\n",
        "    x_prediction = np.array(x_prediction)\n",
        "    x_prediction = np.reshape(x_prediction, (x_prediction.shape[0], self.timesteps, self.n_inputs))\n",
        "    return x_prediction\n",
        "\n",
        "  def build_dataset(self, company, start_date, end_date):\n",
        "    dataset = web.DataReader(company, \"yahoo\", start_date, end_date)\n",
        "    dataset = dataset.drop(['Volume', 'High', 'Low', 'Close', 'Adj Close'], axis=1)\n",
        "    inflation = web.DataReader(['CPILFESL'], 'fred', start_date, end_date)\n",
        "    dataset = dataset.join(inflation)\n",
        "    dataset = dataset.fillna(method='ffill')\n",
        "    dataset = dataset.fillna(method='bfill')\n",
        "    gdp = web.DataReader('GDP', 'fred', start_date, end_date)\n",
        "    dataset = dataset.join(gdp)\n",
        "    dataset = dataset.fillna(method='ffill')\n",
        "    dataset = dataset.fillna(method='bfill')\n",
        "    return dataset\n",
        "\n",
        "  def inverse_transform(self, predicted_stock_price):\n",
        "    y_scaler = MinMaxScaler()\n",
        "    y_scaler.fit(self.train_dataset['Open'].values.reshape(-1, 1))\n",
        "    return y_scaler.inverse_transform(predicted_stock_price)\n",
        "\n",
        "  def build_rnn(self, n_inputs = None, units = 120, dropout_rate = 0.2, optimizer = 'adam', loss = 'mean_squared_error'):\n",
        "    if (n_inputs == None):\n",
        "      n_inputs = self.n_inputs\n",
        "    regressor = Sequential()\n",
        "\n",
        "    #add first LSTM layer and Dropout regularization\n",
        "    first_lstm_layer = LSTM(units = units, return_sequences=True, input_shape = (self.x_train.shape[1], n_inputs), )\n",
        "    regressor.add(first_lstm_layer)\n",
        "\n",
        "    dropout_layer = Dropout(rate = dropout_rate)\n",
        "    regressor.add(dropout_layer)\n",
        "\n",
        "    if (self.lstm_count > 2):\n",
        "      #Add lstm_count-1 more LSTM Layers\n",
        "      for i in range(self.lstm_count-2):\n",
        "        regressor.add(LSTM(units = units, return_sequences=True))\n",
        "        regressor.add(Dropout(rate = dropout_rate))\n",
        "      #last layer\n",
        "      regressor.add(LSTM(units = units))\n",
        "      regressor.add(Dropout(rate = dropout_rate))\n",
        "    elif (self.lstm_count == 2):\n",
        "      #first layer\n",
        "      regressor.add(LSTM(units = units, return_sequences=True))\n",
        "      regressor.add(Dropout(rate = dropout_rate))\n",
        "      #second layer\n",
        "      regressor.add(LSTM(units = units))\n",
        "      regressor.add(Dropout(rate = dropout_rate))\n",
        "    else:\n",
        "      #modify first layer to not return sequences\n",
        "      first_lstm_layer.return_sequences = False\n",
        "\n",
        "    #add output layer\n",
        "    output_layer = Dense(units = 1)\n",
        "    regressor.add(output_layer)\n",
        "\n",
        "    #compile RNN\n",
        "    regressor.compile(optimizer = optimizer, loss = loss)\n",
        "    return regressor"
      ],
      "execution_count": 1,
      "outputs": [
        {
          "output_type": "stream",
          "text": [
            "/usr/local/lib/python3.6/dist-packages/pandas_datareader/compat/__init__.py:7: FutureWarning: pandas.util.testing is deprecated. Use the functions in the public API at pandas.testing instead.\n",
            "  from pandas.util.testing import assert_frame_equal\n",
            "Using TensorFlow backend.\n"
          ],
          "name": "stderr"
        }
      ]
    },
    {
      "cell_type": "markdown",
      "metadata": {
        "id": "55TZN4wQqT9W",
        "colab_type": "text"
      },
      "source": [
        "Build Train Data"
      ]
    },
    {
      "cell_type": "code",
      "metadata": {
        "id": "s3rNvzHpqpzX",
        "colab_type": "code",
        "colab": {}
      },
      "source": [
        "#Train Data January 2020\n",
        "company = \"GOOG\"\n",
        "train_start_date = '2012-01-01'\n",
        "train_end_date = '2018-01-01'\n",
        "test_start_date = '2018-01-01'\n",
        "test_end_date = '2018-02-01'"
      ],
      "execution_count": 0,
      "outputs": []
    },
    {
      "cell_type": "code",
      "metadata": {
        "id": "temZS676sjDd",
        "colab_type": "code",
        "colab": {}
      },
      "source": [
        "aisp = AISP(timesteps = 120, lstm_count = 8)"
      ],
      "execution_count": 0,
      "outputs": []
    },
    {
      "cell_type": "code",
      "metadata": {
        "id": "Nq4LmNQfqtKZ",
        "colab_type": "code",
        "colab": {}
      },
      "source": [
        "x_train, y_train = aisp.build_train_data(company, train_start_date, train_end_date)"
      ],
      "execution_count": 0,
      "outputs": []
    },
    {
      "cell_type": "markdown",
      "metadata": {
        "id": "ufcAoDhlqw5p",
        "colab_type": "text"
      },
      "source": [
        "Build and Fit RNN"
      ]
    },
    {
      "cell_type": "code",
      "metadata": {
        "id": "SsE2SpH6rcRn",
        "colab_type": "code",
        "colab": {}
      },
      "source": [
        "regressor = aisp.build_rnn(units = 400, dropout_rate = 0.20, optimizer = 'adam', loss = 'mean_squared_error')"
      ],
      "execution_count": 0,
      "outputs": []
    },
    {
      "cell_type": "code",
      "metadata": {
        "id": "HvTwgNMxqzdx",
        "colab_type": "code",
        "colab": {
          "base_uri": "https://localhost:8080/",
          "height": 1000
        },
        "outputId": "dca585d3-4a3f-4926-97ed-9874293556c3"
      },
      "source": [
        "regressor.fit(x_train, y_train, epochs = 100, batch_size = 64)"
      ],
      "execution_count": 6,
      "outputs": [
        {
          "output_type": "stream",
          "text": [
            "Epoch 1/100\n",
            "1389/1389 [==============================] - 74s 53ms/step - loss: 1.4098\n",
            "Epoch 2/100\n",
            "1389/1389 [==============================] - 72s 51ms/step - loss: 0.0157\n",
            "Epoch 3/100\n",
            "1389/1389 [==============================] - 73s 52ms/step - loss: 0.0038\n",
            "Epoch 4/100\n",
            "1389/1389 [==============================] - 73s 53ms/step - loss: 0.0028\n",
            "Epoch 5/100\n",
            "1389/1389 [==============================] - 74s 54ms/step - loss: 0.0028\n",
            "Epoch 6/100\n",
            "1389/1389 [==============================] - 73s 53ms/step - loss: 0.0024\n",
            "Epoch 7/100\n",
            "1389/1389 [==============================] - 72s 52ms/step - loss: 0.0027\n",
            "Epoch 8/100\n",
            "1389/1389 [==============================] - 71s 51ms/step - loss: 0.0028\n",
            "Epoch 9/100\n",
            "1389/1389 [==============================] - 72s 52ms/step - loss: 0.0028\n",
            "Epoch 10/100\n",
            "1389/1389 [==============================] - 72s 52ms/step - loss: 0.0022\n",
            "Epoch 11/100\n",
            "1389/1389 [==============================] - 73s 52ms/step - loss: 0.0022\n",
            "Epoch 12/100\n",
            "1389/1389 [==============================] - 74s 53ms/step - loss: 0.0021\n",
            "Epoch 13/100\n",
            "1389/1389 [==============================] - 73s 53ms/step - loss: 0.0021\n",
            "Epoch 14/100\n",
            "1389/1389 [==============================] - 73s 52ms/step - loss: 0.0020\n",
            "Epoch 15/100\n",
            "1389/1389 [==============================] - 72s 52ms/step - loss: 0.0020\n",
            "Epoch 16/100\n",
            "1389/1389 [==============================] - 72s 52ms/step - loss: 0.0022\n",
            "Epoch 17/100\n",
            "1389/1389 [==============================] - 71s 51ms/step - loss: 0.0022\n",
            "Epoch 18/100\n",
            "1389/1389 [==============================] - 72s 52ms/step - loss: 0.0020\n",
            "Epoch 19/100\n",
            "1389/1389 [==============================] - 71s 51ms/step - loss: 0.0024\n",
            "Epoch 20/100\n",
            "1389/1389 [==============================] - 72s 52ms/step - loss: 0.0021\n",
            "Epoch 21/100\n",
            "1389/1389 [==============================] - 71s 51ms/step - loss: 0.0018\n",
            "Epoch 22/100\n",
            "1389/1389 [==============================] - 73s 52ms/step - loss: 0.0021\n",
            "Epoch 23/100\n",
            "1389/1389 [==============================] - 71s 51ms/step - loss: 0.0023\n",
            "Epoch 24/100\n",
            "1389/1389 [==============================] - 71s 51ms/step - loss: 0.0022\n",
            "Epoch 25/100\n",
            "1389/1389 [==============================] - 71s 51ms/step - loss: 0.0020\n",
            "Epoch 26/100\n",
            "1389/1389 [==============================] - 74s 53ms/step - loss: 0.0023\n",
            "Epoch 27/100\n",
            "1389/1389 [==============================] - 72s 52ms/step - loss: 0.0018\n",
            "Epoch 28/100\n",
            "1389/1389 [==============================] - 71s 51ms/step - loss: 0.0019\n",
            "Epoch 29/100\n",
            "1389/1389 [==============================] - 71s 51ms/step - loss: 0.0019\n",
            "Epoch 30/100\n",
            "1389/1389 [==============================] - 71s 51ms/step - loss: 0.0014\n",
            "Epoch 31/100\n",
            "1389/1389 [==============================] - 72s 52ms/step - loss: 0.0018\n",
            "Epoch 32/100\n",
            "1389/1389 [==============================] - 71s 51ms/step - loss: 0.0019\n",
            "Epoch 33/100\n",
            "1389/1389 [==============================] - 71s 51ms/step - loss: 0.0020\n",
            "Epoch 34/100\n",
            "1389/1389 [==============================] - 71s 51ms/step - loss: 0.0019\n",
            "Epoch 35/100\n",
            "1389/1389 [==============================] - 72s 52ms/step - loss: 0.0013\n",
            "Epoch 36/100\n",
            "1389/1389 [==============================] - 71s 51ms/step - loss: 0.0025\n",
            "Epoch 37/100\n",
            "1389/1389 [==============================] - 71s 51ms/step - loss: 0.0016\n",
            "Epoch 38/100\n",
            "1389/1389 [==============================] - 71s 51ms/step - loss: 0.0015\n",
            "Epoch 39/100\n",
            "1389/1389 [==============================] - 71s 51ms/step - loss: 0.0014\n",
            "Epoch 40/100\n",
            "1389/1389 [==============================] - 71s 51ms/step - loss: 0.0020\n",
            "Epoch 41/100\n",
            "1389/1389 [==============================] - 71s 51ms/step - loss: 0.0016\n",
            "Epoch 42/100\n",
            "1389/1389 [==============================] - 71s 51ms/step - loss: 0.0016\n",
            "Epoch 43/100\n",
            "1389/1389 [==============================] - 71s 51ms/step - loss: 0.0018\n",
            "Epoch 44/100\n",
            "1389/1389 [==============================] - 73s 52ms/step - loss: 0.0013\n",
            "Epoch 45/100\n",
            "1389/1389 [==============================] - 72s 51ms/step - loss: 0.0015\n",
            "Epoch 46/100\n",
            "1389/1389 [==============================] - 72s 52ms/step - loss: 0.0020\n",
            "Epoch 47/100\n",
            "1389/1389 [==============================] - 71s 51ms/step - loss: 0.0014\n",
            "Epoch 48/100\n",
            "1389/1389 [==============================] - 72s 52ms/step - loss: 0.0013\n",
            "Epoch 49/100\n",
            "1389/1389 [==============================] - 71s 51ms/step - loss: 0.0013\n",
            "Epoch 50/100\n",
            "1389/1389 [==============================] - 72s 52ms/step - loss: 0.0018\n",
            "Epoch 51/100\n",
            "1389/1389 [==============================] - 70s 51ms/step - loss: 0.0014\n",
            "Epoch 52/100\n",
            "1389/1389 [==============================] - 71s 51ms/step - loss: 0.0012\n",
            "Epoch 53/100\n",
            "1389/1389 [==============================] - 72s 52ms/step - loss: 0.0012\n",
            "Epoch 54/100\n",
            "1389/1389 [==============================] - 71s 51ms/step - loss: 0.0015\n",
            "Epoch 55/100\n",
            "1389/1389 [==============================] - 71s 51ms/step - loss: 0.0014\n",
            "Epoch 56/100\n",
            "1389/1389 [==============================] - 71s 51ms/step - loss: 0.0012\n",
            "Epoch 57/100\n",
            "1389/1389 [==============================] - 72s 52ms/step - loss: 0.0013\n",
            "Epoch 58/100\n",
            "1389/1389 [==============================] - 71s 51ms/step - loss: 0.0015\n",
            "Epoch 59/100\n",
            "1389/1389 [==============================] - 71s 51ms/step - loss: 0.0011\n",
            "Epoch 60/100\n",
            "1389/1389 [==============================] - 71s 51ms/step - loss: 0.0014\n",
            "Epoch 61/100\n",
            "1389/1389 [==============================] - 72s 52ms/step - loss: 0.0018\n",
            "Epoch 62/100\n",
            "1389/1389 [==============================] - 71s 51ms/step - loss: 0.0016\n",
            "Epoch 63/100\n",
            "1389/1389 [==============================] - 71s 51ms/step - loss: 0.0017\n",
            "Epoch 64/100\n",
            "1389/1389 [==============================] - 71s 51ms/step - loss: 0.0014\n",
            "Epoch 65/100\n",
            "1389/1389 [==============================] - 73s 53ms/step - loss: 0.0012\n",
            "Epoch 66/100\n",
            "1389/1389 [==============================] - 72s 52ms/step - loss: 0.0012\n",
            "Epoch 67/100\n",
            "1389/1389 [==============================] - 71s 51ms/step - loss: 0.0015\n",
            "Epoch 68/100\n",
            "1389/1389 [==============================] - 71s 51ms/step - loss: 0.0014\n",
            "Epoch 69/100\n",
            "1389/1389 [==============================] - 71s 51ms/step - loss: 0.0019\n",
            "Epoch 70/100\n",
            "1389/1389 [==============================] - 72s 52ms/step - loss: 0.0012\n",
            "Epoch 71/100\n",
            "1389/1389 [==============================] - 71s 51ms/step - loss: 0.0012\n",
            "Epoch 72/100\n",
            "1389/1389 [==============================] - 70s 51ms/step - loss: 0.0011\n",
            "Epoch 73/100\n",
            "1389/1389 [==============================] - 70s 51ms/step - loss: 0.0011\n",
            "Epoch 74/100\n",
            "1389/1389 [==============================] - 72s 52ms/step - loss: 0.0015\n",
            "Epoch 75/100\n",
            "1389/1389 [==============================] - 71s 51ms/step - loss: 0.0011\n",
            "Epoch 76/100\n",
            "1389/1389 [==============================] - 71s 51ms/step - loss: 0.0011\n",
            "Epoch 77/100\n",
            "1389/1389 [==============================] - 71s 51ms/step - loss: 0.0011\n",
            "Epoch 78/100\n",
            "1389/1389 [==============================] - 72s 52ms/step - loss: 0.0011\n",
            "Epoch 79/100\n",
            "1389/1389 [==============================] - 72s 52ms/step - loss: 0.0013\n",
            "Epoch 80/100\n",
            "1389/1389 [==============================] - 71s 51ms/step - loss: 0.0013\n",
            "Epoch 81/100\n",
            "1389/1389 [==============================] - 71s 51ms/step - loss: 0.0011\n",
            "Epoch 82/100\n",
            "1389/1389 [==============================] - 71s 51ms/step - loss: 9.8819e-04\n",
            "Epoch 83/100\n",
            "1389/1389 [==============================] - 72s 52ms/step - loss: 0.0010\n",
            "Epoch 84/100\n",
            "1389/1389 [==============================] - 71s 51ms/step - loss: 0.0013\n",
            "Epoch 85/100\n",
            "1389/1389 [==============================] - 71s 51ms/step - loss: 0.0011\n",
            "Epoch 86/100\n",
            "1389/1389 [==============================] - 71s 51ms/step - loss: 0.0011\n",
            "Epoch 87/100\n",
            "1389/1389 [==============================] - 72s 52ms/step - loss: 0.0010\n",
            "Epoch 88/100\n",
            "1389/1389 [==============================] - 72s 52ms/step - loss: 0.0010\n",
            "Epoch 89/100\n",
            "1389/1389 [==============================] - 71s 51ms/step - loss: 8.8929e-04\n",
            "Epoch 90/100\n",
            "1389/1389 [==============================] - 71s 51ms/step - loss: 9.9239e-04\n",
            "Epoch 91/100\n",
            "1389/1389 [==============================] - 71s 51ms/step - loss: 9.8281e-04\n",
            "Epoch 92/100\n",
            "1389/1389 [==============================] - 72s 52ms/step - loss: 0.0010\n",
            "Epoch 93/100\n",
            "1389/1389 [==============================] - 71s 51ms/step - loss: 9.6308e-04\n",
            "Epoch 94/100\n",
            "1389/1389 [==============================] - 71s 51ms/step - loss: 0.0010\n",
            "Epoch 95/100\n",
            "1389/1389 [==============================] - 71s 51ms/step - loss: 0.0010\n",
            "Epoch 96/100\n",
            "1389/1389 [==============================] - 72s 52ms/step - loss: 9.5215e-04\n",
            "Epoch 97/100\n",
            "1389/1389 [==============================] - 71s 51ms/step - loss: 0.0010\n",
            "Epoch 98/100\n",
            "1389/1389 [==============================] - 71s 51ms/step - loss: 0.0010\n",
            "Epoch 99/100\n",
            "1389/1389 [==============================] - 70s 51ms/step - loss: 9.0333e-04\n",
            "Epoch 100/100\n",
            "1389/1389 [==============================] - 70s 50ms/step - loss: 9.5227e-04\n"
          ],
          "name": "stdout"
        },
        {
          "output_type": "execute_result",
          "data": {
            "text/plain": [
              "<keras.callbacks.callbacks.History at 0x7fb89f37d240>"
            ]
          },
          "metadata": {
            "tags": []
          },
          "execution_count": 6
        }
      ]
    },
    {
      "cell_type": "markdown",
      "metadata": {
        "id": "mn45jHJ4rtav",
        "colab_type": "text"
      },
      "source": [
        "Build Prediction Data"
      ]
    },
    {
      "cell_type": "code",
      "metadata": {
        "id": "6GqQyyJRrsjp",
        "colab_type": "code",
        "colab": {}
      },
      "source": [
        "x_prediction = aisp.build_prediction_data(company, test_start_date, test_end_date)"
      ],
      "execution_count": 0,
      "outputs": []
    },
    {
      "cell_type": "markdown",
      "metadata": {
        "id": "rlcgz3egr4XA",
        "colab_type": "text"
      },
      "source": [
        "Predict January 2020"
      ]
    },
    {
      "cell_type": "code",
      "metadata": {
        "id": "QGR4cIDPr5wn",
        "colab_type": "code",
        "colab": {}
      },
      "source": [
        "\n",
        "predicted_stock_price = regressor.predict(x_prediction)\n",
        "predicted_stock_price = aisp.inverse_transform(predicted_stock_price)"
      ],
      "execution_count": 0,
      "outputs": []
    },
    {
      "cell_type": "markdown",
      "metadata": {
        "id": "O3chll8bsCqe",
        "colab_type": "text"
      },
      "source": [
        "Get Real January 2020 Stock Price"
      ]
    },
    {
      "cell_type": "code",
      "metadata": {
        "id": "wjuEXGKnsCI5",
        "colab_type": "code",
        "colab": {}
      },
      "source": [
        "real_stock_price = aisp.build_dataset(company, test_start_date, test_end_date)['Open'].values"
      ],
      "execution_count": 0,
      "outputs": []
    },
    {
      "cell_type": "markdown",
      "metadata": {
        "id": "eDJPPfv5r8wT",
        "colab_type": "text"
      },
      "source": [
        "\n",
        "Visualize Results"
      ]
    },
    {
      "cell_type": "code",
      "metadata": {
        "id": "ASr3f6_7r-Pc",
        "colab_type": "code",
        "colab": {
          "base_uri": "https://localhost:8080/",
          "height": 295
        },
        "outputId": "5a2031bd-66d3-4889-82cc-a2366a0d3c00"
      },
      "source": [
        "plt.plot(real_stock_price, color='red', label='Real Google Stock Price')\n",
        "plt.plot(predicted_stock_price, color='yellow', label='Predicted Google Stock Price')\n",
        "plt.title('Google Real Vs Predicted Stcok Price')\n",
        "plt.xlabel('Time')\n",
        "plt.ylabel('Google Stock Price Prediction')\n",
        "plt.legend()\n",
        "plt.show()"
      ],
      "execution_count": 10,
      "outputs": [
        {
          "output_type": "display_data",
          "data": {
            "image/png": "[encoded data removed]",
            "text/plain": [
              "<Figure size 432x288 with 1 Axes>"
            ]
          },
          "metadata": {
            "tags": [],
            "needs_background": "light"
          }
        }
      ]
    }
  ]
}